{
 "cells": [
  {
   "cell_type": "code",
   "execution_count": null,
   "metadata": {},
   "outputs": [],
   "source": [
    "import pandas as pd\n",
    "import numpy as np\n",
    "import matplotlib.pyplot as plt\n",
    "%matplotlib inline\n",
    "import statsmodels.api as sm\n",
    "import plotly.graph_objects as go\n",
    "from scipy.stats import poisson"
   ]
  },
  {
   "cell_type": "code",
   "execution_count": null,
   "metadata": {},
   "outputs": [],
   "source": [
    "all_dmv = pd.read_csv('datasets/vehicle_fuel_type.csv')\n",
    "all_dmv.columns = all_dmv.columns.str.replace(\" \", \"_\")\n",
    "all_dmv.head()"
   ]
  },
  {
   "cell_type": "code",
   "execution_count": null,
   "metadata": {},
   "outputs": [],
   "source": [
    "all_dmv['Date'].value_counts()"
   ]
  },
  {
   "cell_type": "code",
   "execution_count": null,
   "metadata": {},
   "outputs": [],
   "source": [
    "sdge_zip_csv = pd.read_csv('data/SDGE_zip.csv')\n",
    "sdge_service_zip = sdge_zip_csv['ZipCode']"
   ]
  },
  {
   "cell_type": "code",
   "execution_count": null,
   "metadata": {},
   "outputs": [],
   "source": [
    "all_dmv['Zip_Code'] = all_dmv['Zip_Code'].astype(str).str.strip()\n",
    "sdge_service_zip = sdge_service_zip.astype(str).str.strip()"
   ]
  },
  {
   "cell_type": "code",
   "execution_count": null,
   "metadata": {},
   "outputs": [],
   "source": [
    "SDGE_dmv = all_dmv[(all_dmv['Zip_Code'].isin(sdge_service_zip)) & (all_dmv['Fuel'] == 'Battery Electric')]\n",
    "SDGE_dmv"
   ]
  },
  {
   "cell_type": "code",
   "execution_count": null,
   "metadata": {},
   "outputs": [],
   "source": [
    "# Function to set a Year column for each date to organize DMV data\n",
    "def map_date_to_year(date):\n",
    "    if date == \"12/31/2022\":\n",
    "        return 2022\n",
    "    elif date == \"1/1/2022\":\n",
    "        return 2021\n",
    "    elif date == \"1/1/2021\":\n",
    "        return 2020\n",
    "    elif date == \"1/1/2020\":\n",
    "        return 2019\n",
    "    elif date == \"10/1/2018\":\n",
    "        return 2018\n",
    "    elif date == \"12/31/2023\":\n",
    "        return 2023\n",
    "    else:\n",
    "        return None  # Handle unexpected or missing values"
   ]
  },
  {
   "cell_type": "code",
   "execution_count": null,
   "metadata": {},
   "outputs": [],
   "source": [
    "# Apply the function to the 'Date' column to create the new 'Year' column\n",
    "SDGE_dmv['Year'] = SDGE_dmv['Date'].apply(map_date_to_year)"
   ]
  },
  {
   "cell_type": "code",
   "execution_count": null,
   "metadata": {},
   "outputs": [],
   "source": [
    "SDGE_dmv['Date'].value_counts()"
   ]
  },
  {
   "cell_type": "code",
   "execution_count": null,
   "metadata": {},
   "outputs": [],
   "source": [
    "SDGE_dmv['Year'].value_counts()"
   ]
  },
  {
   "cell_type": "code",
   "execution_count": null,
   "metadata": {},
   "outputs": [],
   "source": [
    "SDGE_dmv.head()"
   ]
  },
  {
   "cell_type": "markdown",
   "metadata": {},
   "source": [
    "## Top 20 ZIP Codes with Highest Number Of EVs"
   ]
  },
  {
   "cell_type": "code",
   "execution_count": null,
   "metadata": {},
   "outputs": [],
   "source": [
    "vehicles_by_zip = SDGE_dmv.groupby('Zip_Code')['Vehicles'].sum().sort_values(ascending=False).reset_index()\n",
    "vehicles_by_zip.columns = ['zip', 'ev_owners']\n",
    "vehicles_by_zip"
   ]
  },
  {
   "cell_type": "code",
   "execution_count": null,
   "metadata": {},
   "outputs": [],
   "source": [
    "# Create a bar plot for the top 20 ZIP Codes with the highest number of vehicles\n",
    "plt.figure(figsize=(14, 7))\n",
    "top_20 = vehicles_by_zip.head(20)\n",
    "plt.bar(top_20['zip'], top_20['ev_owners'], color='skyblue')\n",
    "plt.title('Top 20 ZIP Codes with the Highest Number of EVs')\n",
    "plt.xlabel('ZIP Code')\n",
    "plt.ylabel('Number of Vehicles')\n",
    "plt.xticks(rotation=45)\n",
    "plt.tight_layout()\n",
    "plt.show()\n"
   ]
  },
  {
   "cell_type": "markdown",
   "metadata": {},
   "source": [
    "## Total EV Count Per Year From 2018 - 2023"
   ]
  },
  {
   "cell_type": "code",
   "execution_count": null,
   "metadata": {},
   "outputs": [],
   "source": [
    "# Group data by YEAR and sum the number of EVs\n",
    "ev_distribution_by_year = SDGE_dmv.groupby('Year')['Vehicles'].sum().sort_index()\n",
    "ev_distribution_by_year"
   ]
  },
  {
   "cell_type": "code",
   "execution_count": null,
   "metadata": {},
   "outputs": [],
   "source": [
    "# Create a bar plot for the distribution of EVs throughout the years\n",
    "plt.figure(figsize=(12, 6))\n",
    "ev_distribution_by_year.plot(kind='bar', color='green')\n",
    "plt.title('Growth of EVs Throughout the Years (Bar)')\n",
    "plt.xlabel('Year')\n",
    "plt.ylabel('Number of EVs')\n",
    "plt.xticks(rotation=45)\n",
    "plt.tight_layout()\n",
    "plt.show()\n",
    "\n",
    "plt.figure(figsize = (12, 6))\n",
    "ev_distribution_by_year.plot(kind='line', color='green')\n",
    "plt.title('Growth of EVs Throughout the Years (Line)')\n",
    "plt.xlabel('Year')\n",
    "plt.ylabel('Number of EVs')\n",
    "plt.xticks(rotation=45)\n",
    "plt.tight_layout()\n",
    "plt.show()"
   ]
  },
  {
   "cell_type": "markdown",
   "metadata": {},
   "source": [
    "## Count of New EV Registered Per Year From 2018 - 2023"
   ]
  },
  {
   "cell_type": "code",
   "execution_count": null,
   "metadata": {},
   "outputs": [],
   "source": [
    "yearly_growth = ev_distribution_by_year.diff()\n",
    "growth_labels = [f\"{year1} - {year2}\" for year1, year2 in zip(ev_distribution_by_year.index[:-1], ev_distribution_by_year.index[1:])]\n",
    "\n",
    "yearly_growth_df = pd.DataFrame(\n",
    "    {\"Label\" : growth_labels,\n",
    "    \"Yearly Growth\": yearly_growth[1:]}\n",
    ")\n",
    "yearly_growth_df.set_index(\"Label\")"
   ]
  },
  {
   "cell_type": "code",
   "execution_count": null,
   "metadata": {},
   "outputs": [],
   "source": [
    "# Bar Graph for Yearly Growth with Custom Labels\n",
    "plt.figure(figsize=(10, 6))\n",
    "plt.bar(yearly_growth_df[\"Label\"], yearly_growth_df[\"Yearly Growth\"], color='skyblue')\n",
    "plt.title(\"Yearly Growth of EV Registrations (Bar Graph)\", fontsize=14)\n",
    "plt.xlabel(\"Year Range\", fontsize=12)\n",
    "plt.ylabel(\"Growth in EV Registrations\", fontsize=12)\n",
    "plt.xticks(rotation=45)  # Rotate labels for better visibility\n",
    "plt.grid(axis='y', linestyle='--', alpha=0.7)\n",
    "plt.show()\n",
    "\n",
    "# Line Graph for Yearly Growth with Custom Labels\n",
    "plt.figure(figsize=(10, 6))\n",
    "plt.plot(yearly_growth_df[\"Label\"], yearly_growth_df[\"Yearly Growth\"], marker='o', linestyle='-', color='green', linewidth=2)\n",
    "plt.title(\"Yearly Growth of EV Registrations (Line Graph)\", fontsize=14)\n",
    "plt.xlabel(\"Year Range\")\n",
    "plt.ylabel(\"Growth in EV Registrations\")\n",
    "plt.xticks(rotation=45)  # Rotate labels for better visibility\n",
    "plt.grid(axis='both', linestyle='--', alpha=0.7)\n",
    "plt.show()"
   ]
  },
  {
   "cell_type": "markdown",
   "metadata": {},
   "source": [
    "## Scatter Plotting the Correlation Between EV Counts and Charging Stations in SDGE Territories"
   ]
  },
  {
   "cell_type": "code",
   "execution_count": null,
   "metadata": {},
   "outputs": [],
   "source": [
    "sdge_zip_csv = pd.read_csv('data/SDGE_zip.csv')\n",
    "sdge_service_zip = sdge_zip_csv['ZipCode']\n",
    "alternative_fuels_data = pd.read_csv('datasets/alternative_fuels_data.csv')\n",
    "enhanced_columns = [\n",
    "    'station_name', 'city', 'state', 'zip', 'country', 'access_code',\n",
    "    'latitude', 'longitude', 'fuel_type_code', 'status_code', 'open_date',\n",
    "    'ev_connector_types', 'ev_dc_fast_num', 'ev_level1_evse_num',\n",
    "    'ev_level2_evse_num', 'ev_network', 'ev_network_web', 'ev_other_evse',\n",
    "    'ev_workplace_charging', 'ev_pricing'\n",
    "]\n",
    "alternative_fuels_data = alternative_fuels_data[enhanced_columns]"
   ]
  },
  {
   "cell_type": "code",
   "execution_count": null,
   "metadata": {},
   "outputs": [],
   "source": [
    "charging_station_data = alternative_fuels_data[(alternative_fuels_data['zip'].isin(sdge_service_zip)) & (alternative_fuels_data['fuel_type_code'] == 'ELEC')]\n",
    "charging_station_data"
   ]
  },
  {
   "cell_type": "code",
   "execution_count": null,
   "metadata": {},
   "outputs": [],
   "source": [
    "# Ensure ZIP codes are strings for consistent merging\n",
    "SDGE_dmv['Zip_Code'] = SDGE_dmv['Zip_Code'].astype(str)\n",
    "charging_station_data['zip'] = charging_station_data['zip'].astype(str)\n",
    "\n",
    "# Filter and count EV charging stations by ZIP code for electric fuel type\n",
    "charging_stations_by_zip = charging_station_data[charging_station_data['fuel_type_code'] == 'ELEC'].groupby('zip').size().reset_index(name='charger_count')\n",
    "\n",
    "# Merge EV owners and charging station counts by ZIP code\n",
    "ev_zip_data = pd.merge(vehicles_by_zip, charging_stations_by_zip, on='zip', how='inner')\n",
    "\n",
    "# Prepare regression model\n",
    "X = ev_zip_data['ev_owners']\n",
    "y = ev_zip_data['charger_count']\n",
    "X_const = sm.add_constant(X)\n",
    "model = sm.OLS(y, X_const).fit()\n",
    "predictions = model.predict(X_const)\n",
    "\n",
    "### Plotly: Interactive Scatter Plot with ZIP Codes in Hover Info ###\n",
    "fig = go.Figure()\n",
    "\n",
    "# Add scatter plot with ZIP codes in hover text\n",
    "fig.add_trace(go.Scatter(\n",
    "    x=ev_zip_data['ev_owners'], \n",
    "    y=ev_zip_data['charger_count'], \n",
    "    mode='markers', \n",
    "    marker=dict(size=10, opacity=0.7), \n",
    "    name='Data points',\n",
    "    text=ev_zip_data['zip'],  # Add ZIP codes as hover text\n",
    "    hovertemplate=(\n",
    "        \"<b>ZIP Code:</b> %{text}<br>\" +  # Add ZIP code to the hover template\n",
    "        \"<b>EV Owners:</b> %{x}<br>\" +  # EV owners count\n",
    "        \"<b>Charging Stations:</b> %{y}<br><extra></extra>\"  # Charger count\n",
    "    )\n",
    "))\n",
    "\n",
    "# Add regression line\n",
    "fig.add_trace(go.Scatter(\n",
    "    x=ev_zip_data['ev_owners'], \n",
    "    y=predictions, \n",
    "    mode='lines', \n",
    "    line=dict(color='red', width=2), \n",
    "    name='Regression line'\n",
    "))\n",
    "\n",
    "# Customize layout\n",
    "fig.update_layout(\n",
    "    title='Correlation between EV Owners and Charging Stations',\n",
    "    xaxis_title='Number of EV Owners',\n",
    "    yaxis_title='Number of EV Charging Stations',\n",
    "    width=1000,\n",
    "    height=700\n",
    ")\n",
    "\n",
    "fig.show()\n"
   ]
  },
  {
   "cell_type": "markdown",
   "metadata": {},
   "source": [
    "## Fitting Poisson Distribution On EV Owner Data "
   ]
  },
  {
   "cell_type": "code",
   "execution_count": null,
   "metadata": {},
   "outputs": [],
   "source": [
    "# Group data by ZIP code and year\n",
    "ev_count_by_zip_year = SDGE_dmv.groupby(['Zip_Code', 'Year'])['Vehicles'].sum().reset_index()\n",
    "\n",
    "# Pivot to create a table for Poisson fitting\n",
    "pivot_table = ev_count_by_zip_year.pivot(index='Year', columns='Zip_Code', values='Vehicles').fillna(0)\n",
    "\n",
    "# Prepare to store results\n",
    "poisson_results = []\n",
    "\n",
    "# Fit Poisson distribution for each ZIP code\n",
    "for zip_code in pivot_table.columns:\n",
    "    ev_counts = pivot_table[zip_code]\n",
    "    \n",
    "    # Only fit if there are data points\n",
    "    if ev_counts.sum() > 0:\n",
    "        # Fit Poisson using Maximum Likelihood Estimation (MLE)\n",
    "        model = sm.GLM(ev_counts, np.ones_like(ev_counts), family=sm.families.Poisson())\n",
    "        result = model.fit()\n",
    "        \n",
    "        # Get the lambda (mean of Poisson)\n",
    "        lambda_estimate = result.mu.mean()\n",
    "        poisson_results.append({'zip': zip_code, 'lambda': lambda_estimate})\n",
    "\n",
    "# Convert results to DataFrame\n",
    "poisson_results_df = pd.DataFrame(poisson_results)\n",
    "\n",
    "# Save the results to a CSV file\n",
    "poisson_results_df.to_csv('poisson_results_sdge.csv', index=False)\n",
    "\n",
    "# Print the first few rows of the results\n",
    "print(poisson_results_df.head())"
   ]
  },
  {
   "cell_type": "markdown",
   "metadata": {},
   "source": [
    "## Monte Carlo Simulation"
   ]
  },
  {
   "cell_type": "code",
   "execution_count": null,
   "metadata": {},
   "outputs": [],
   "source": [
    "# Monte Carlo simulation\n",
    "n_samples = 1000\n",
    "samples_results = {}\n",
    "\n",
    "# Extract lambda values for each ZIP code\n",
    "poisson_params = poisson_results_df.set_index('zip')['lambda'].to_dict()\n",
    "\n",
    "# Perform sampling\n",
    "for n in range(n_samples):\n",
    "    results = []\n",
    "    for zip_code in poisson_params.keys():\n",
    "        # Sample from Poisson distribution\n",
    "        value = poisson.rvs(mu=poisson_params[zip_code], size=1)\n",
    "        results.append(value[0])\n",
    "    samples_results[n] = results\n",
    "\n",
    "# Convert sampling results to DataFrame for analysis\n",
    "samples_df = pd.DataFrame.from_dict(samples_results, orient='index', columns=poisson_params.keys())\n",
    "\n",
    "# Save sampled results to a CSV\n",
    "samples_df.to_csv('poisson_samples.csv', index=False)\n"
   ]
  },
  {
   "cell_type": "code",
   "execution_count": null,
   "metadata": {},
   "outputs": [],
   "source": [
    "poisson_params"
   ]
  },
  {
   "cell_type": "code",
   "execution_count": null,
   "metadata": {},
   "outputs": [],
   "source": [
    "samples_df.T"
   ]
  },
  {
   "cell_type": "code",
   "execution_count": null,
   "metadata": {},
   "outputs": [],
   "source": [
    "samples_df.sum()"
   ]
  },
  {
   "cell_type": "code",
   "execution_count": null,
   "metadata": {},
   "outputs": [],
   "source": [
    "samples_df.T.sum()"
   ]
  },
  {
   "cell_type": "code",
   "execution_count": null,
   "metadata": {},
   "outputs": [],
   "source": [
    "samples_df.std()"
   ]
  },
  {
   "cell_type": "markdown",
   "metadata": {},
   "source": [
    "## Visualization For Monte Carlo Simulation of Zip Code 92122"
   ]
  },
  {
   "cell_type": "code",
   "execution_count": null,
   "metadata": {},
   "outputs": [],
   "source": [
    "import matplotlib.pyplot as plt\n",
    "\n",
    "# Choose a ZIP code to plot the histogram\n",
    "zip_code_to_plot = '92122'  # Replace with desired ZIP code if known\n",
    "\n",
    "# Extract samples for the chosen ZIP code\n",
    "zip_samples = samples_df[zip_code_to_plot]\n",
    "\n",
    "# Create the histogram\n",
    "plt.figure(figsize=(10, 6))\n",
    "plt.hist(zip_samples, bins=30, alpha=0.7, color='blue', edgecolor='black')\n",
    "\n",
    "# Add labels and title\n",
    "plt.title(f'Histogram of Poisson Samples for ZIP Code {zip_code_to_plot}', fontsize=16)\n",
    "plt.xlabel('Number of Registered EVs', fontsize=14)\n",
    "plt.ylabel('Frequency', fontsize=14)\n",
    "\n",
    "# Show the plot\n",
    "plt.tight_layout()\n",
    "plt.show()"
   ]
  }
 ],
 "metadata": {
  "kernelspec": {
   "display_name": "dsc180a",
   "language": "python",
   "name": "python3"
  },
  "language_info": {
   "codemirror_mode": {
    "name": "ipython",
    "version": 3
   },
   "file_extension": ".py",
   "mimetype": "text/x-python",
   "name": "python",
   "nbconvert_exporter": "python",
   "pygments_lexer": "ipython3",
   "version": "3.10.15"
  }
 },
 "nbformat": 4,
 "nbformat_minor": 2
}
