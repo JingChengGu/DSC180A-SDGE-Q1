{
 "cells": [
  {
   "cell_type": "code",
   "execution_count": 2,
   "metadata": {},
   "outputs": [],
   "source": [
    "import pandas as pd\n",
    "import numpy as np\n",
    "import matplotlib.pyplot as plt\n",
    "%matplotlib inline\n",
    "import statsmodels.api as sm\n",
    "import plotly.graph_objects as go\n",
    "from scipy.stats import poisson"
   ]
  },
  {
   "cell_type": "code",
   "execution_count": 3,
   "metadata": {},
   "outputs": [
    {
     "name": "stderr",
     "output_type": "stream",
     "text": [
      "/var/folders/54/hwsm49bs033bpdy18h8fnp2h0000gn/T/ipykernel_4178/3180194298.py:1: DtypeWarning: Columns (2,3) have mixed types. Specify dtype option on import or set low_memory=False.\n",
      "  all_dmv = pd.read_csv('datasets/vehicle_fuel_type.csv')\n"
     ]
    },
    {
     "data": {
      "text/html": [
       "<div>\n",
       "<style scoped>\n",
       "    .dataframe tbody tr th:only-of-type {\n",
       "        vertical-align: middle;\n",
       "    }\n",
       "\n",
       "    .dataframe tbody tr th {\n",
       "        vertical-align: top;\n",
       "    }\n",
       "\n",
       "    .dataframe thead th {\n",
       "        text-align: right;\n",
       "    }\n",
       "</style>\n",
       "<table border=\"1\" class=\"dataframe\">\n",
       "  <thead>\n",
       "    <tr style=\"text-align: right;\">\n",
       "      <th></th>\n",
       "      <th>_id</th>\n",
       "      <th>Date</th>\n",
       "      <th>Zip_Code</th>\n",
       "      <th>Model_Year</th>\n",
       "      <th>Fuel</th>\n",
       "      <th>Make</th>\n",
       "      <th>Duty</th>\n",
       "      <th>Vehicles</th>\n",
       "    </tr>\n",
       "  </thead>\n",
       "  <tbody>\n",
       "    <tr>\n",
       "      <th>0</th>\n",
       "      <td>1</td>\n",
       "      <td>10/1/2018</td>\n",
       "      <td>90000</td>\n",
       "      <td>2006</td>\n",
       "      <td>Gasoline</td>\n",
       "      <td>OTHER/UNK</td>\n",
       "      <td>Light</td>\n",
       "      <td>1</td>\n",
       "    </tr>\n",
       "    <tr>\n",
       "      <th>1</th>\n",
       "      <td>2</td>\n",
       "      <td>10/1/2018</td>\n",
       "      <td>90000</td>\n",
       "      <td>2014</td>\n",
       "      <td>Gasoline</td>\n",
       "      <td>OTHER/UNK</td>\n",
       "      <td>Light</td>\n",
       "      <td>1</td>\n",
       "    </tr>\n",
       "    <tr>\n",
       "      <th>2</th>\n",
       "      <td>3</td>\n",
       "      <td>10/1/2018</td>\n",
       "      <td>90000</td>\n",
       "      <td>2016</td>\n",
       "      <td>Gasoline</td>\n",
       "      <td>OTHER/UNK</td>\n",
       "      <td>Light</td>\n",
       "      <td>1</td>\n",
       "    </tr>\n",
       "    <tr>\n",
       "      <th>3</th>\n",
       "      <td>4</td>\n",
       "      <td>10/1/2018</td>\n",
       "      <td>90000</td>\n",
       "      <td>2017</td>\n",
       "      <td>Gasoline</td>\n",
       "      <td>OTHER/UNK</td>\n",
       "      <td>Light</td>\n",
       "      <td>1</td>\n",
       "    </tr>\n",
       "    <tr>\n",
       "      <th>4</th>\n",
       "      <td>5</td>\n",
       "      <td>10/1/2018</td>\n",
       "      <td>90000</td>\n",
       "      <td>&lt;2006</td>\n",
       "      <td>Diesel and Diesel Hybrid</td>\n",
       "      <td>OTHER/UNK</td>\n",
       "      <td>Heavy</td>\n",
       "      <td>55</td>\n",
       "    </tr>\n",
       "  </tbody>\n",
       "</table>\n",
       "</div>"
      ],
      "text/plain": [
       "   _id       Date Zip_Code Model_Year                      Fuel       Make  \\\n",
       "0    1  10/1/2018    90000       2006                  Gasoline  OTHER/UNK   \n",
       "1    2  10/1/2018    90000       2014                  Gasoline  OTHER/UNK   \n",
       "2    3  10/1/2018    90000       2016                  Gasoline  OTHER/UNK   \n",
       "3    4  10/1/2018    90000       2017                  Gasoline  OTHER/UNK   \n",
       "4    5  10/1/2018    90000      <2006  Diesel and Diesel Hybrid  OTHER/UNK   \n",
       "\n",
       "    Duty  Vehicles  \n",
       "0  Light         1  \n",
       "1  Light         1  \n",
       "2  Light         1  \n",
       "3  Light         1  \n",
       "4  Heavy        55  "
      ]
     },
     "execution_count": 3,
     "metadata": {},
     "output_type": "execute_result"
    }
   ],
   "source": [
    "all_dmv = pd.read_csv('datasets/vehicle_fuel_type.csv')\n",
    "all_dmv.columns = all_dmv.columns.str.replace(\" \", \"_\")\n",
    "all_dmv.head()"
   ]
  },
  {
   "cell_type": "code",
   "execution_count": 4,
   "metadata": {},
   "outputs": [
    {
     "data": {
      "text/plain": [
       "12/31/2022    767054\n",
       "1/1/2022      722465\n",
       "1/1/2021      677969\n",
       "1/1/2020      602394\n",
       "10/1/2018     586233\n",
       "12/31/2023    499623\n",
       "Name: Date, dtype: int64"
      ]
     },
     "execution_count": 4,
     "metadata": {},
     "output_type": "execute_result"
    }
   ],
   "source": [
    "all_dmv['Date'].value_counts()"
   ]
  },
  {
   "cell_type": "code",
   "execution_count": 28,
   "metadata": {},
   "outputs": [],
   "source": [
    "sdge_zip_csv = pd.read_csv('datasets/SDGE_zip.csv')\n",
    "sdge_service_zip = sdge_zip_csv['ZipCode']"
   ]
  },
  {
   "cell_type": "code",
   "execution_count": 29,
   "metadata": {},
   "outputs": [],
   "source": [
    "all_dmv['Zip_Code'] = all_dmv['Zip_Code'].astype(str).str.strip()\n",
    "sdge_service_zip = sdge_service_zip.astype(str).str.strip()"
   ]
  },
  {
   "cell_type": "code",
   "execution_count": 30,
   "metadata": {},
   "outputs": [
    {
     "data": {
      "text/html": [
       "<div>\n",
       "<style scoped>\n",
       "    .dataframe tbody tr th:only-of-type {\n",
       "        vertical-align: middle;\n",
       "    }\n",
       "\n",
       "    .dataframe tbody tr th {\n",
       "        vertical-align: top;\n",
       "    }\n",
       "\n",
       "    .dataframe thead th {\n",
       "        text-align: right;\n",
       "    }\n",
       "</style>\n",
       "<table border=\"1\" class=\"dataframe\">\n",
       "  <thead>\n",
       "    <tr style=\"text-align: right;\">\n",
       "      <th></th>\n",
       "      <th>_id</th>\n",
       "      <th>Date</th>\n",
       "      <th>Zip_Code</th>\n",
       "      <th>Model_Year</th>\n",
       "      <th>Fuel</th>\n",
       "      <th>Make</th>\n",
       "      <th>Duty</th>\n",
       "      <th>Vehicles</th>\n",
       "    </tr>\n",
       "  </thead>\n",
       "  <tbody>\n",
       "    <tr>\n",
       "      <th>139342</th>\n",
       "      <td>139343</td>\n",
       "      <td>10/1/2018</td>\n",
       "      <td>91901</td>\n",
       "      <td>2011</td>\n",
       "      <td>Battery Electric</td>\n",
       "      <td>OTHER/UNK</td>\n",
       "      <td>Light</td>\n",
       "      <td>3</td>\n",
       "    </tr>\n",
       "    <tr>\n",
       "      <th>139366</th>\n",
       "      <td>139367</td>\n",
       "      <td>10/1/2018</td>\n",
       "      <td>91901</td>\n",
       "      <td>2012</td>\n",
       "      <td>Battery Electric</td>\n",
       "      <td>OTHER/UNK</td>\n",
       "      <td>Light</td>\n",
       "      <td>3</td>\n",
       "    </tr>\n",
       "    <tr>\n",
       "      <th>139390</th>\n",
       "      <td>139391</td>\n",
       "      <td>10/1/2018</td>\n",
       "      <td>91901</td>\n",
       "      <td>2013</td>\n",
       "      <td>Battery Electric</td>\n",
       "      <td>OTHER/UNK</td>\n",
       "      <td>Light</td>\n",
       "      <td>5</td>\n",
       "    </tr>\n",
       "    <tr>\n",
       "      <th>139420</th>\n",
       "      <td>139421</td>\n",
       "      <td>10/1/2018</td>\n",
       "      <td>91901</td>\n",
       "      <td>2014</td>\n",
       "      <td>Battery Electric</td>\n",
       "      <td>OTHER/UNK</td>\n",
       "      <td>Light</td>\n",
       "      <td>7</td>\n",
       "    </tr>\n",
       "    <tr>\n",
       "      <th>139452</th>\n",
       "      <td>139453</td>\n",
       "      <td>10/1/2018</td>\n",
       "      <td>91901</td>\n",
       "      <td>2015</td>\n",
       "      <td>Battery Electric</td>\n",
       "      <td>OTHER/UNK</td>\n",
       "      <td>Light</td>\n",
       "      <td>5</td>\n",
       "    </tr>\n",
       "    <tr>\n",
       "      <th>...</th>\n",
       "      <td>...</td>\n",
       "      <td>...</td>\n",
       "      <td>...</td>\n",
       "      <td>...</td>\n",
       "      <td>...</td>\n",
       "      <td>...</td>\n",
       "      <td>...</td>\n",
       "      <td>...</td>\n",
       "    </tr>\n",
       "    <tr>\n",
       "      <th>3855195</th>\n",
       "      <td>499081</td>\n",
       "      <td>12/31/2023</td>\n",
       "      <td>91978</td>\n",
       "      <td>2014</td>\n",
       "      <td>Battery Electric</td>\n",
       "      <td>OTHER/UNK</td>\n",
       "      <td>Light</td>\n",
       "      <td>3</td>\n",
       "    </tr>\n",
       "    <tr>\n",
       "      <th>3855209</th>\n",
       "      <td>499095</td>\n",
       "      <td>12/31/2023</td>\n",
       "      <td>92106</td>\n",
       "      <td>2022</td>\n",
       "      <td>Battery Electric</td>\n",
       "      <td>RIVIAN</td>\n",
       "      <td>Light</td>\n",
       "      <td>14</td>\n",
       "    </tr>\n",
       "    <tr>\n",
       "      <th>3855291</th>\n",
       "      <td>499177</td>\n",
       "      <td>12/31/2023</td>\n",
       "      <td>91902</td>\n",
       "      <td>2012</td>\n",
       "      <td>Battery Electric</td>\n",
       "      <td>OTHER/UNK</td>\n",
       "      <td>Light</td>\n",
       "      <td>1</td>\n",
       "    </tr>\n",
       "    <tr>\n",
       "      <th>3855292</th>\n",
       "      <td>499178</td>\n",
       "      <td>12/31/2023</td>\n",
       "      <td>92110</td>\n",
       "      <td>2012</td>\n",
       "      <td>Battery Electric</td>\n",
       "      <td>OTHER/UNK</td>\n",
       "      <td>Light</td>\n",
       "      <td>2</td>\n",
       "    </tr>\n",
       "    <tr>\n",
       "      <th>3855481</th>\n",
       "      <td>499367</td>\n",
       "      <td>12/31/2023</td>\n",
       "      <td>92117</td>\n",
       "      <td>2022</td>\n",
       "      <td>Battery Electric</td>\n",
       "      <td>KIA</td>\n",
       "      <td>Light</td>\n",
       "      <td>11</td>\n",
       "    </tr>\n",
       "  </tbody>\n",
       "</table>\n",
       "<p>13253 rows × 8 columns</p>\n",
       "</div>"
      ],
      "text/plain": [
       "            _id        Date Zip_Code Model_Year              Fuel       Make  \\\n",
       "139342   139343   10/1/2018    91901       2011  Battery Electric  OTHER/UNK   \n",
       "139366   139367   10/1/2018    91901       2012  Battery Electric  OTHER/UNK   \n",
       "139390   139391   10/1/2018    91901       2013  Battery Electric  OTHER/UNK   \n",
       "139420   139421   10/1/2018    91901       2014  Battery Electric  OTHER/UNK   \n",
       "139452   139453   10/1/2018    91901       2015  Battery Electric  OTHER/UNK   \n",
       "...         ...         ...      ...        ...               ...        ...   \n",
       "3855195  499081  12/31/2023    91978       2014  Battery Electric  OTHER/UNK   \n",
       "3855209  499095  12/31/2023    92106       2022  Battery Electric     RIVIAN   \n",
       "3855291  499177  12/31/2023    91902       2012  Battery Electric  OTHER/UNK   \n",
       "3855292  499178  12/31/2023    92110       2012  Battery Electric  OTHER/UNK   \n",
       "3855481  499367  12/31/2023    92117       2022  Battery Electric        KIA   \n",
       "\n",
       "          Duty  Vehicles  \n",
       "139342   Light         3  \n",
       "139366   Light         3  \n",
       "139390   Light         5  \n",
       "139420   Light         7  \n",
       "139452   Light         5  \n",
       "...        ...       ...  \n",
       "3855195  Light         3  \n",
       "3855209  Light        14  \n",
       "3855291  Light         1  \n",
       "3855292  Light         2  \n",
       "3855481  Light        11  \n",
       "\n",
       "[13253 rows x 8 columns]"
      ]
     },
     "execution_count": 30,
     "metadata": {},
     "output_type": "execute_result"
    }
   ],
   "source": [
    "SDGE_dmv = all_dmv[(all_dmv['Zip_Code'].isin(sdge_service_zip)) & (all_dmv['Fuel'] == 'Battery Electric')]\n",
    "SDGE_dmv"
   ]
  },
  {
   "cell_type": "code",
   "execution_count": 31,
   "metadata": {},
   "outputs": [],
   "source": [
    "# Function to set a Year column for each date to organize DMV data\n",
    "def map_date_to_year(date):\n",
    "    if date == \"12/31/2022\":\n",
    "        return 2022\n",
    "    elif date == \"1/1/2022\":\n",
    "        return 2021\n",
    "    elif date == \"1/1/2021\":\n",
    "        return 2020\n",
    "    elif date == \"1/1/2020\":\n",
    "        return 2019\n",
    "    elif date == \"10/1/2018\":\n",
    "        return 2018\n",
    "    elif date == \"12/31/2023\":\n",
    "        return 2023\n",
    "    else:\n",
    "        return None  # Handle unexpected or missing values"
   ]
  },
  {
   "cell_type": "code",
   "execution_count": 32,
   "metadata": {},
   "outputs": [
    {
     "name": "stderr",
     "output_type": "stream",
     "text": [
      "/var/folders/54/hwsm49bs033bpdy18h8fnp2h0000gn/T/ipykernel_4178/1257133320.py:2: SettingWithCopyWarning: \n",
      "A value is trying to be set on a copy of a slice from a DataFrame.\n",
      "Try using .loc[row_indexer,col_indexer] = value instead\n",
      "\n",
      "See the caveats in the documentation: https://pandas.pydata.org/pandas-docs/stable/user_guide/indexing.html#returning-a-view-versus-a-copy\n",
      "  SDGE_dmv['Year'] = SDGE_dmv['Date'].apply(map_date_to_year)\n"
     ]
    }
   ],
   "source": [
    "# Apply the function to the 'Date' column to create the new 'Year' column\n",
    "SDGE_dmv['Year'] = SDGE_dmv['Date'].apply(map_date_to_year)"
   ]
  },
  {
   "cell_type": "code",
   "execution_count": 33,
   "metadata": {},
   "outputs": [
    {
     "data": {
      "text/plain": [
       "12/31/2023    3136\n",
       "12/31/2022    2765\n",
       "1/1/2022      2228\n",
       "1/1/2021      1832\n",
       "10/1/2018     1676\n",
       "1/1/2020      1616\n",
       "Name: Date, dtype: int64"
      ]
     },
     "execution_count": 33,
     "metadata": {},
     "output_type": "execute_result"
    }
   ],
   "source": [
    "SDGE_dmv['Date'].value_counts()"
   ]
  },
  {
   "cell_type": "code",
   "execution_count": 34,
   "metadata": {},
   "outputs": [
    {
     "data": {
      "text/plain": [
       "2023    3136\n",
       "2022    2765\n",
       "2021    2228\n",
       "2020    1832\n",
       "2018    1676\n",
       "2019    1616\n",
       "Name: Year, dtype: int64"
      ]
     },
     "execution_count": 34,
     "metadata": {},
     "output_type": "execute_result"
    }
   ],
   "source": [
    "SDGE_dmv['Year'].value_counts()"
   ]
  },
  {
   "cell_type": "code",
   "execution_count": 35,
   "metadata": {},
   "outputs": [
    {
     "data": {
      "text/html": [
       "<div>\n",
       "<style scoped>\n",
       "    .dataframe tbody tr th:only-of-type {\n",
       "        vertical-align: middle;\n",
       "    }\n",
       "\n",
       "    .dataframe tbody tr th {\n",
       "        vertical-align: top;\n",
       "    }\n",
       "\n",
       "    .dataframe thead th {\n",
       "        text-align: right;\n",
       "    }\n",
       "</style>\n",
       "<table border=\"1\" class=\"dataframe\">\n",
       "  <thead>\n",
       "    <tr style=\"text-align: right;\">\n",
       "      <th></th>\n",
       "      <th>_id</th>\n",
       "      <th>Date</th>\n",
       "      <th>Zip_Code</th>\n",
       "      <th>Model_Year</th>\n",
       "      <th>Fuel</th>\n",
       "      <th>Make</th>\n",
       "      <th>Duty</th>\n",
       "      <th>Vehicles</th>\n",
       "      <th>Year</th>\n",
       "    </tr>\n",
       "  </thead>\n",
       "  <tbody>\n",
       "    <tr>\n",
       "      <th>139342</th>\n",
       "      <td>139343</td>\n",
       "      <td>10/1/2018</td>\n",
       "      <td>91901</td>\n",
       "      <td>2011</td>\n",
       "      <td>Battery Electric</td>\n",
       "      <td>OTHER/UNK</td>\n",
       "      <td>Light</td>\n",
       "      <td>3</td>\n",
       "      <td>2018</td>\n",
       "    </tr>\n",
       "    <tr>\n",
       "      <th>139366</th>\n",
       "      <td>139367</td>\n",
       "      <td>10/1/2018</td>\n",
       "      <td>91901</td>\n",
       "      <td>2012</td>\n",
       "      <td>Battery Electric</td>\n",
       "      <td>OTHER/UNK</td>\n",
       "      <td>Light</td>\n",
       "      <td>3</td>\n",
       "      <td>2018</td>\n",
       "    </tr>\n",
       "    <tr>\n",
       "      <th>139390</th>\n",
       "      <td>139391</td>\n",
       "      <td>10/1/2018</td>\n",
       "      <td>91901</td>\n",
       "      <td>2013</td>\n",
       "      <td>Battery Electric</td>\n",
       "      <td>OTHER/UNK</td>\n",
       "      <td>Light</td>\n",
       "      <td>5</td>\n",
       "      <td>2018</td>\n",
       "    </tr>\n",
       "    <tr>\n",
       "      <th>139420</th>\n",
       "      <td>139421</td>\n",
       "      <td>10/1/2018</td>\n",
       "      <td>91901</td>\n",
       "      <td>2014</td>\n",
       "      <td>Battery Electric</td>\n",
       "      <td>OTHER/UNK</td>\n",
       "      <td>Light</td>\n",
       "      <td>7</td>\n",
       "      <td>2018</td>\n",
       "    </tr>\n",
       "    <tr>\n",
       "      <th>139452</th>\n",
       "      <td>139453</td>\n",
       "      <td>10/1/2018</td>\n",
       "      <td>91901</td>\n",
       "      <td>2015</td>\n",
       "      <td>Battery Electric</td>\n",
       "      <td>OTHER/UNK</td>\n",
       "      <td>Light</td>\n",
       "      <td>5</td>\n",
       "      <td>2018</td>\n",
       "    </tr>\n",
       "  </tbody>\n",
       "</table>\n",
       "</div>"
      ],
      "text/plain": [
       "           _id       Date Zip_Code Model_Year              Fuel       Make  \\\n",
       "139342  139343  10/1/2018    91901       2011  Battery Electric  OTHER/UNK   \n",
       "139366  139367  10/1/2018    91901       2012  Battery Electric  OTHER/UNK   \n",
       "139390  139391  10/1/2018    91901       2013  Battery Electric  OTHER/UNK   \n",
       "139420  139421  10/1/2018    91901       2014  Battery Electric  OTHER/UNK   \n",
       "139452  139453  10/1/2018    91901       2015  Battery Electric  OTHER/UNK   \n",
       "\n",
       "         Duty  Vehicles  Year  \n",
       "139342  Light         3  2018  \n",
       "139366  Light         3  2018  \n",
       "139390  Light         5  2018  \n",
       "139420  Light         7  2018  \n",
       "139452  Light         5  2018  "
      ]
     },
     "execution_count": 35,
     "metadata": {},
     "output_type": "execute_result"
    }
   ],
   "source": [
    "SDGE_dmv.head()"
   ]
  },
  {
   "cell_type": "markdown",
   "metadata": {},
   "source": [
    "## Top 20 ZIP Codes with Highest Number Of EVs"
   ]
  },
  {
   "cell_type": "code",
   "execution_count": 36,
   "metadata": {},
   "outputs": [
    {
     "data": {
      "text/html": [
       "<div>\n",
       "<style scoped>\n",
       "    .dataframe tbody tr th:only-of-type {\n",
       "        vertical-align: middle;\n",
       "    }\n",
       "\n",
       "    .dataframe tbody tr th {\n",
       "        vertical-align: top;\n",
       "    }\n",
       "\n",
       "    .dataframe thead th {\n",
       "        text-align: right;\n",
       "    }\n",
       "</style>\n",
       "<table border=\"1\" class=\"dataframe\">\n",
       "  <thead>\n",
       "    <tr style=\"text-align: right;\">\n",
       "      <th></th>\n",
       "      <th>zip</th>\n",
       "      <th>ev_owners</th>\n",
       "    </tr>\n",
       "  </thead>\n",
       "  <tbody>\n",
       "    <tr>\n",
       "      <th>0</th>\n",
       "      <td>92130</td>\n",
       "      <td>18727</td>\n",
       "    </tr>\n",
       "    <tr>\n",
       "      <th>1</th>\n",
       "      <td>92127</td>\n",
       "      <td>13901</td>\n",
       "    </tr>\n",
       "    <tr>\n",
       "      <th>2</th>\n",
       "      <td>92677</td>\n",
       "      <td>11928</td>\n",
       "    </tr>\n",
       "    <tr>\n",
       "      <th>3</th>\n",
       "      <td>92024</td>\n",
       "      <td>9944</td>\n",
       "    </tr>\n",
       "    <tr>\n",
       "      <th>4</th>\n",
       "      <td>92694</td>\n",
       "      <td>9757</td>\n",
       "    </tr>\n",
       "    <tr>\n",
       "      <th>...</th>\n",
       "      <td>...</td>\n",
       "      <td>...</td>\n",
       "    </tr>\n",
       "    <tr>\n",
       "      <th>134</th>\n",
       "      <td>92066</td>\n",
       "      <td>6</td>\n",
       "    </tr>\n",
       "    <tr>\n",
       "      <th>135</th>\n",
       "      <td>92134</td>\n",
       "      <td>3</td>\n",
       "    </tr>\n",
       "    <tr>\n",
       "      <th>136</th>\n",
       "      <td>91948</td>\n",
       "      <td>2</td>\n",
       "    </tr>\n",
       "    <tr>\n",
       "      <th>137</th>\n",
       "      <td>92155</td>\n",
       "      <td>2</td>\n",
       "    </tr>\n",
       "    <tr>\n",
       "      <th>138</th>\n",
       "      <td>92199</td>\n",
       "      <td>1</td>\n",
       "    </tr>\n",
       "  </tbody>\n",
       "</table>\n",
       "<p>139 rows × 2 columns</p>\n",
       "</div>"
      ],
      "text/plain": [
       "       zip  ev_owners\n",
       "0    92130      18727\n",
       "1    92127      13901\n",
       "2    92677      11928\n",
       "3    92024       9944\n",
       "4    92694       9757\n",
       "..     ...        ...\n",
       "134  92066          6\n",
       "135  92134          3\n",
       "136  91948          2\n",
       "137  92155          2\n",
       "138  92199          1\n",
       "\n",
       "[139 rows x 2 columns]"
      ]
     },
     "execution_count": 36,
     "metadata": {},
     "output_type": "execute_result"
    }
   ],
   "source": [
    "vehicles_by_zip = SDGE_dmv.groupby('Zip_Code')['Vehicles'].sum().sort_values(ascending=False).reset_index()\n",
    "vehicles_by_zip.columns = ['zip', 'ev_owners']\n",
    "vehicles_by_zip"
   ]
  },
  {
   "cell_type": "code",
   "execution_count": 37,
   "metadata": {},
   "outputs": [
    {
     "data": {
      "image/png": "[encoded data removed]",
      "text/plain": [
       "<Figure size 1400x700 with 1 Axes>"
      ]
     },
     "metadata": {},
     "output_type": "display_data"
    }
   ],
   "source": [
    "# Create a bar plot for the top 20 ZIP Codes with the highest number of vehicles\n",
    "plt.figure(figsize=(14, 7))\n",
    "top_20 = vehicles_by_zip.head(20)\n",
    "plt.bar(top_20['zip'], top_20['ev_owners'], color='skyblue')\n",
    "plt.title('Top 20 ZIP Codes with the Highest Number of EVs')\n",
    "plt.xlabel('ZIP Code')\n",
    "plt.ylabel('Number of Vehicles')\n",
    "plt.xticks(rotation=45)\n",
    "plt.tight_layout()\n",
    "plt.show()\n"
   ]
  },
  {
   "cell_type": "markdown",
   "metadata": {},
   "source": [
    "## Total EV Count Per Year From 2018 - 2023"
   ]
  },
  {
   "cell_type": "code",
   "execution_count": 38,
   "metadata": {},
   "outputs": [
    {
     "data": {
      "text/plain": [
       "Year\n",
       "2018     26460\n",
       "2019     34187\n",
       "2020     44014\n",
       "2021     62373\n",
       "2022     90455\n",
       "2023    130954\n",
       "Name: Vehicles, dtype: int64"
      ]
     },
     "execution_count": 38,
     "metadata": {},
     "output_type": "execute_result"
    }
   ],
   "source": [
    "# Group data by YEAR and sum the number of EVs\n",
    "ev_distribution_by_year = SDGE_dmv.groupby('Year')['Vehicles'].sum().sort_index()\n",
    "ev_distribution_by_year"
   ]
  },
  {
   "cell_type": "code",
   "execution_count": 39,
   "metadata": {},
   "outputs": [
    {
     "data": {
      "image/png": "[encoded data removed]",
      "text/plain": [
       "<Figure size 1200x600 with 1 Axes>"
      ]
     },
     "metadata": {},
     "output_type": "display_data"
    },
    {
     "data": {
      "image/png": "[encoded data removed]",
      "text/plain": [
       "<Figure size 1200x600 with 1 Axes>"
      ]
     },
     "metadata": {},
     "output_type": "display_data"
    }
   ],
   "source": [
    "# Create a bar plot for the distribution of EVs throughout the years\n",
    "plt.figure(figsize=(12, 6))\n",
    "ev_distribution_by_year.plot(kind='bar', color='green')\n",
    "plt.title('Growth of EVs Throughout the Years (Bar)')\n",
    "plt.xlabel('Year')\n",
    "plt.ylabel('Number of EVs')\n",
    "plt.xticks(rotation=45)\n",
    "plt.tight_layout()\n",
    "plt.show()\n",
    "\n",
    "plt.figure(figsize = (12, 6))\n",
    "ev_distribution_by_year.plot(kind='line', color='green')\n",
    "plt.title('Growth of EVs Throughout the Years (Line)')\n",
    "plt.xlabel('Year')\n",
    "plt.ylabel('Number of EVs')\n",
    "plt.xticks(rotation=45)\n",
    "plt.tight_layout()\n",
    "plt.show()"
   ]
  },
  {
   "cell_type": "markdown",
   "metadata": {},
   "source": [
    "## Count of New EV Registered Per Year From 2018 - 2023"
   ]
  },
  {
   "cell_type": "code",
   "execution_count": 40,
   "metadata": {},
   "outputs": [
    {
     "data": {
      "text/html": [
       "<div>\n",
       "<style scoped>\n",
       "    .dataframe tbody tr th:only-of-type {\n",
       "        vertical-align: middle;\n",
       "    }\n",
       "\n",
       "    .dataframe tbody tr th {\n",
       "        vertical-align: top;\n",
       "    }\n",
       "\n",
       "    .dataframe thead th {\n",
       "        text-align: right;\n",
       "    }\n",
       "</style>\n",
       "<table border=\"1\" class=\"dataframe\">\n",
       "  <thead>\n",
       "    <tr style=\"text-align: right;\">\n",
       "      <th></th>\n",
       "      <th>Yearly Growth</th>\n",
       "    </tr>\n",
       "    <tr>\n",
       "      <th>Label</th>\n",
       "      <th></th>\n",
       "    </tr>\n",
       "  </thead>\n",
       "  <tbody>\n",
       "    <tr>\n",
       "      <th>2018 - 2019</th>\n",
       "      <td>7727.0</td>\n",
       "    </tr>\n",
       "    <tr>\n",
       "      <th>2019 - 2020</th>\n",
       "      <td>9827.0</td>\n",
       "    </tr>\n",
       "    <tr>\n",
       "      <th>2020 - 2021</th>\n",
       "      <td>18359.0</td>\n",
       "    </tr>\n",
       "    <tr>\n",
       "      <th>2021 - 2022</th>\n",
       "      <td>28082.0</td>\n",
       "    </tr>\n",
       "    <tr>\n",
       "      <th>2022 - 2023</th>\n",
       "      <td>40499.0</td>\n",
       "    </tr>\n",
       "  </tbody>\n",
       "</table>\n",
       "</div>"
      ],
      "text/plain": [
       "             Yearly Growth\n",
       "Label                     \n",
       "2018 - 2019         7727.0\n",
       "2019 - 2020         9827.0\n",
       "2020 - 2021        18359.0\n",
       "2021 - 2022        28082.0\n",
       "2022 - 2023        40499.0"
      ]
     },
     "execution_count": 40,
     "metadata": {},
     "output_type": "execute_result"
    }
   ],
   "source": [
    "yearly_growth = ev_distribution_by_year.diff()\n",
    "growth_labels = [f\"{year1} - {year2}\" for year1, year2 in zip(ev_distribution_by_year.index[:-1], ev_distribution_by_year.index[1:])]\n",
    "\n",
    "yearly_growth_df = pd.DataFrame(\n",
    "    {\"Label\" : growth_labels,\n",
    "    \"Yearly Growth\": yearly_growth[1:]}\n",
    ")\n",
    "yearly_growth_df.set_index(\"Label\")"
   ]
  },
  {
   "cell_type": "code",
   "execution_count": 41,
   "metadata": {},
   "outputs": [
    {
     "data": {
      "image/png": "[encoded data removed]",
      "text/plain": [
       "<Figure size 1000x600 with 1 Axes>"
      ]
     },
     "metadata": {},
     "output_type": "display_data"
    },
    {
     "data": {
      "image/png": "[encoded data removed]",
      "text/plain": [
       "<Figure size 1000x600 with 1 Axes>"
      ]
     },
     "metadata": {},
     "output_type": "display_data"
    }
   ],
   "source": [
    "# Bar Graph for Yearly Growth with Custom Labels\n",
    "plt.figure(figsize=(10, 6))\n",
    "plt.bar(yearly_growth_df[\"Label\"], yearly_growth_df[\"Yearly Growth\"], color='skyblue')\n",
    "plt.title(\"Yearly Growth of EV Registrations (Bar Graph)\", fontsize=14)\n",
    "plt.xlabel(\"Year Range\", fontsize=12)\n",
    "plt.ylabel(\"Growth in EV Registrations\", fontsize=12)\n",
    "plt.xticks(rotation=45)  # Rotate labels for better visibility\n",
    "plt.grid(axis='y', linestyle='--', alpha=0.7)\n",
    "plt.show()\n",
    "\n",
    "# Line Graph for Yearly Growth with Custom Labels\n",
    "plt.figure(figsize=(10, 6))\n",
    "plt.plot(yearly_growth_df[\"Label\"], yearly_growth_df[\"Yearly Growth\"], marker='o', linestyle='-', color='green', linewidth=2)\n",
    "plt.title(\"Yearly Growth of EV Registrations (Line Graph)\", fontsize=14)\n",
    "plt.xlabel(\"Year Range\")\n",
    "plt.ylabel(\"Growth in EV Registrations\")\n",
    "plt.xticks(rotation=45)  # Rotate labels for better visibility\n",
    "plt.grid(axis='both', linestyle='--', alpha=0.7)\n",
    "plt.show()"
   ]
  },
  {
   "cell_type": "markdown",
   "metadata": {},
   "source": [
    "## Scatter Plotting the Correlation Between EV Counts and Charging Stations in SDGE Territories"
   ]
  },
  {
   "cell_type": "code",
   "execution_count": 42,
   "metadata": {},
   "outputs": [
    {
     "name": "stderr",
     "output_type": "stream",
     "text": [
      "/var/folders/54/hwsm49bs033bpdy18h8fnp2h0000gn/T/ipykernel_4178/755191607.py:3: DtypeWarning: Columns (14,28,29,33,34,43,46,50,51,52,53,54,55,56,60,62,63,66,73,74) have mixed types. Specify dtype option on import or set low_memory=False.\n",
      "  alternative_fuels_data = pd.read_csv('datasets/alternative_fuels_data.csv')\n"
     ]
    }
   ],
   "source": [
    "sdge_zip_csv = pd.read_csv('datasets/SDGE_zip.csv')\n",
    "sdge_service_zip = sdge_zip_csv['ZipCode']\n",
    "alternative_fuels_data = pd.read_csv('datasets/alternative_fuels_data.csv')\n",
    "enhanced_columns = [\n",
    "    'station_name', 'city', 'state', 'zip', 'country', 'access_code',\n",
    "    'latitude', 'longitude', 'fuel_type_code', 'status_code', 'open_date',\n",
    "    'ev_connector_types', 'ev_dc_fast_num', 'ev_level1_evse_num',\n",
    "    'ev_level2_evse_num', 'ev_network', 'ev_network_web', 'ev_other_evse',\n",
    "    'ev_workplace_charging', 'ev_pricing'\n",
    "]\n",
    "alternative_fuels_data = alternative_fuels_data[enhanced_columns]"
   ]
  },
  {
   "cell_type": "code",
   "execution_count": 43,
   "metadata": {},
   "outputs": [
    {
     "data": {
      "text/html": [
       "<div>\n",
       "<style scoped>\n",
       "    .dataframe tbody tr th:only-of-type {\n",
       "        vertical-align: middle;\n",
       "    }\n",
       "\n",
       "    .dataframe tbody tr th {\n",
       "        vertical-align: top;\n",
       "    }\n",
       "\n",
       "    .dataframe thead th {\n",
       "        text-align: right;\n",
       "    }\n",
       "</style>\n",
       "<table border=\"1\" class=\"dataframe\">\n",
       "  <thead>\n",
       "    <tr style=\"text-align: right;\">\n",
       "      <th></th>\n",
       "      <th>station_name</th>\n",
       "      <th>city</th>\n",
       "      <th>state</th>\n",
       "      <th>zip</th>\n",
       "      <th>country</th>\n",
       "      <th>access_code</th>\n",
       "      <th>latitude</th>\n",
       "      <th>longitude</th>\n",
       "      <th>fuel_type_code</th>\n",
       "      <th>status_code</th>\n",
       "      <th>open_date</th>\n",
       "      <th>ev_connector_types</th>\n",
       "      <th>ev_dc_fast_num</th>\n",
       "      <th>ev_level1_evse_num</th>\n",
       "      <th>ev_level2_evse_num</th>\n",
       "      <th>ev_network</th>\n",
       "      <th>ev_network_web</th>\n",
       "      <th>ev_other_evse</th>\n",
       "      <th>ev_workplace_charging</th>\n",
       "      <th>ev_pricing</th>\n",
       "    </tr>\n",
       "  </thead>\n",
       "  <tbody>\n",
       "    <tr>\n",
       "      <th>136</th>\n",
       "      <td>Scripps Green Hospital</td>\n",
       "      <td>La Jolla</td>\n",
       "      <td>CA</td>\n",
       "      <td>92037</td>\n",
       "      <td>US</td>\n",
       "      <td>public</td>\n",
       "      <td>32.899470</td>\n",
       "      <td>-117.243000</td>\n",
       "      <td>ELEC</td>\n",
       "      <td>E</td>\n",
       "      <td>1997-07-30</td>\n",
       "      <td>['J1772']</td>\n",
       "      <td>NaN</td>\n",
       "      <td>NaN</td>\n",
       "      <td>1.0</td>\n",
       "      <td>Non-Networked</td>\n",
       "      <td>NaN</td>\n",
       "      <td>NaN</td>\n",
       "      <td>False</td>\n",
       "      <td>Free; parking fee</td>\n",
       "    </tr>\n",
       "    <tr>\n",
       "      <th>3091</th>\n",
       "      <td>Mossy Nissan - El Cajon</td>\n",
       "      <td>El Cajon</td>\n",
       "      <td>CA</td>\n",
       "      <td>92020</td>\n",
       "      <td>US</td>\n",
       "      <td>public</td>\n",
       "      <td>32.795896</td>\n",
       "      <td>-116.976156</td>\n",
       "      <td>ELEC</td>\n",
       "      <td>E</td>\n",
       "      <td>2011-03-15</td>\n",
       "      <td>['J1772']</td>\n",
       "      <td>NaN</td>\n",
       "      <td>NaN</td>\n",
       "      <td>1.0</td>\n",
       "      <td>Non-Networked</td>\n",
       "      <td>NaN</td>\n",
       "      <td>NaN</td>\n",
       "      <td>False</td>\n",
       "      <td>Free</td>\n",
       "    </tr>\n",
       "    <tr>\n",
       "      <th>3094</th>\n",
       "      <td>Mossy Nissan - Escondido</td>\n",
       "      <td>Escondido</td>\n",
       "      <td>CA</td>\n",
       "      <td>92029</td>\n",
       "      <td>US</td>\n",
       "      <td>public</td>\n",
       "      <td>33.116492</td>\n",
       "      <td>-117.106837</td>\n",
       "      <td>ELEC</td>\n",
       "      <td>E</td>\n",
       "      <td>2011-03-15</td>\n",
       "      <td>['J1772']</td>\n",
       "      <td>NaN</td>\n",
       "      <td>NaN</td>\n",
       "      <td>1.0</td>\n",
       "      <td>Non-Networked</td>\n",
       "      <td>NaN</td>\n",
       "      <td>NaN</td>\n",
       "      <td>False</td>\n",
       "      <td>Free</td>\n",
       "    </tr>\n",
       "    <tr>\n",
       "      <th>3118</th>\n",
       "      <td>Mossy Nissan</td>\n",
       "      <td>National City</td>\n",
       "      <td>CA</td>\n",
       "      <td>91950</td>\n",
       "      <td>US</td>\n",
       "      <td>public</td>\n",
       "      <td>32.659001</td>\n",
       "      <td>-117.100836</td>\n",
       "      <td>ELEC</td>\n",
       "      <td>E</td>\n",
       "      <td>2011-03-15</td>\n",
       "      <td>['J1772']</td>\n",
       "      <td>NaN</td>\n",
       "      <td>NaN</td>\n",
       "      <td>1.0</td>\n",
       "      <td>Non-Networked</td>\n",
       "      <td>NaN</td>\n",
       "      <td>NaN</td>\n",
       "      <td>False</td>\n",
       "      <td>Free</td>\n",
       "    </tr>\n",
       "    <tr>\n",
       "      <th>3119</th>\n",
       "      <td>Mossy Nissan - Oceanside</td>\n",
       "      <td>Oceanside</td>\n",
       "      <td>CA</td>\n",
       "      <td>92056</td>\n",
       "      <td>US</td>\n",
       "      <td>public</td>\n",
       "      <td>33.181953</td>\n",
       "      <td>-117.298334</td>\n",
       "      <td>ELEC</td>\n",
       "      <td>E</td>\n",
       "      <td>2011-03-15</td>\n",
       "      <td>['CHADEMO', 'J1772', 'J1772COMBO']</td>\n",
       "      <td>3.0</td>\n",
       "      <td>NaN</td>\n",
       "      <td>2.0</td>\n",
       "      <td>Non-Networked</td>\n",
       "      <td>NaN</td>\n",
       "      <td>NaN</td>\n",
       "      <td>False</td>\n",
       "      <td>Free</td>\n",
       "    </tr>\n",
       "    <tr>\n",
       "      <th>...</th>\n",
       "      <td>...</td>\n",
       "      <td>...</td>\n",
       "      <td>...</td>\n",
       "      <td>...</td>\n",
       "      <td>...</td>\n",
       "      <td>...</td>\n",
       "      <td>...</td>\n",
       "      <td>...</td>\n",
       "      <td>...</td>\n",
       "      <td>...</td>\n",
       "      <td>...</td>\n",
       "      <td>...</td>\n",
       "      <td>...</td>\n",
       "      <td>...</td>\n",
       "      <td>...</td>\n",
       "      <td>...</td>\n",
       "      <td>...</td>\n",
       "      <td>...</td>\n",
       "      <td>...</td>\n",
       "      <td>...</td>\n",
       "    </tr>\n",
       "    <tr>\n",
       "      <th>93765</th>\n",
       "      <td>Pala Administration</td>\n",
       "      <td>Pala</td>\n",
       "      <td>CA</td>\n",
       "      <td>92059</td>\n",
       "      <td>US</td>\n",
       "      <td>public</td>\n",
       "      <td>33.364270</td>\n",
       "      <td>-117.087110</td>\n",
       "      <td>ELEC</td>\n",
       "      <td>P</td>\n",
       "      <td>2025-01-01</td>\n",
       "      <td>['CHADEMO', 'J1772', 'J1772COMBO']</td>\n",
       "      <td>6.0</td>\n",
       "      <td>NaN</td>\n",
       "      <td>6.0</td>\n",
       "      <td>Non-Networked</td>\n",
       "      <td>NaN</td>\n",
       "      <td>NaN</td>\n",
       "      <td>False</td>\n",
       "      <td>$0.65 per kWh</td>\n",
       "    </tr>\n",
       "    <tr>\n",
       "      <th>93883</th>\n",
       "      <td>DGS RAMONA CENTER 2</td>\n",
       "      <td>Ramona</td>\n",
       "      <td>CA</td>\n",
       "      <td>92065</td>\n",
       "      <td>US</td>\n",
       "      <td>public</td>\n",
       "      <td>33.040529</td>\n",
       "      <td>-116.872571</td>\n",
       "      <td>ELEC</td>\n",
       "      <td>E</td>\n",
       "      <td>2024-11-23</td>\n",
       "      <td>['J1772']</td>\n",
       "      <td>NaN</td>\n",
       "      <td>NaN</td>\n",
       "      <td>2.0</td>\n",
       "      <td>ChargePoint Network</td>\n",
       "      <td>http://www.chargepoint.com/</td>\n",
       "      <td>NaN</td>\n",
       "      <td>False</td>\n",
       "      <td>NaN</td>\n",
       "    </tr>\n",
       "    <tr>\n",
       "      <th>93884</th>\n",
       "      <td>DGS RAMONA CENTER 1</td>\n",
       "      <td>Ramona</td>\n",
       "      <td>CA</td>\n",
       "      <td>92065</td>\n",
       "      <td>US</td>\n",
       "      <td>public</td>\n",
       "      <td>33.040545</td>\n",
       "      <td>-116.872535</td>\n",
       "      <td>ELEC</td>\n",
       "      <td>E</td>\n",
       "      <td>2024-11-23</td>\n",
       "      <td>['J1772']</td>\n",
       "      <td>NaN</td>\n",
       "      <td>NaN</td>\n",
       "      <td>2.0</td>\n",
       "      <td>ChargePoint Network</td>\n",
       "      <td>http://www.chargepoint.com/</td>\n",
       "      <td>NaN</td>\n",
       "      <td>False</td>\n",
       "      <td>NaN</td>\n",
       "    </tr>\n",
       "    <tr>\n",
       "      <th>93892</th>\n",
       "      <td>BROADCOM SD 16340 01</td>\n",
       "      <td>San Diego</td>\n",
       "      <td>CA</td>\n",
       "      <td>92127</td>\n",
       "      <td>US</td>\n",
       "      <td>public</td>\n",
       "      <td>33.012795</td>\n",
       "      <td>-117.091313</td>\n",
       "      <td>ELEC</td>\n",
       "      <td>E</td>\n",
       "      <td>2024-11-23</td>\n",
       "      <td>['J1772']</td>\n",
       "      <td>NaN</td>\n",
       "      <td>NaN</td>\n",
       "      <td>2.0</td>\n",
       "      <td>ChargePoint Network</td>\n",
       "      <td>http://www.chargepoint.com/</td>\n",
       "      <td>NaN</td>\n",
       "      <td>False</td>\n",
       "      <td>NaN</td>\n",
       "    </tr>\n",
       "    <tr>\n",
       "      <th>93893</th>\n",
       "      <td>BROADCOM SD 16340 02</td>\n",
       "      <td>San Diego</td>\n",
       "      <td>CA</td>\n",
       "      <td>92127</td>\n",
       "      <td>US</td>\n",
       "      <td>public</td>\n",
       "      <td>33.012765</td>\n",
       "      <td>-117.091255</td>\n",
       "      <td>ELEC</td>\n",
       "      <td>E</td>\n",
       "      <td>2024-11-23</td>\n",
       "      <td>['J1772']</td>\n",
       "      <td>NaN</td>\n",
       "      <td>NaN</td>\n",
       "      <td>2.0</td>\n",
       "      <td>ChargePoint Network</td>\n",
       "      <td>http://www.chargepoint.com/</td>\n",
       "      <td>NaN</td>\n",
       "      <td>False</td>\n",
       "      <td>NaN</td>\n",
       "    </tr>\n",
       "  </tbody>\n",
       "</table>\n",
       "<p>1282 rows × 20 columns</p>\n",
       "</div>"
      ],
      "text/plain": [
       "                   station_name           city state    zip country  \\\n",
       "136      Scripps Green Hospital       La Jolla    CA  92037      US   \n",
       "3091    Mossy Nissan - El Cajon       El Cajon    CA  92020      US   \n",
       "3094   Mossy Nissan - Escondido      Escondido    CA  92029      US   \n",
       "3118               Mossy Nissan  National City    CA  91950      US   \n",
       "3119   Mossy Nissan - Oceanside      Oceanside    CA  92056      US   \n",
       "...                         ...            ...   ...    ...     ...   \n",
       "93765       Pala Administration           Pala    CA  92059      US   \n",
       "93883       DGS RAMONA CENTER 2         Ramona    CA  92065      US   \n",
       "93884       DGS RAMONA CENTER 1         Ramona    CA  92065      US   \n",
       "93892      BROADCOM SD 16340 01      San Diego    CA  92127      US   \n",
       "93893      BROADCOM SD 16340 02      San Diego    CA  92127      US   \n",
       "\n",
       "      access_code   latitude   longitude fuel_type_code status_code  \\\n",
       "136        public  32.899470 -117.243000           ELEC           E   \n",
       "3091       public  32.795896 -116.976156           ELEC           E   \n",
       "3094       public  33.116492 -117.106837           ELEC           E   \n",
       "3118       public  32.659001 -117.100836           ELEC           E   \n",
       "3119       public  33.181953 -117.298334           ELEC           E   \n",
       "...           ...        ...         ...            ...         ...   \n",
       "93765      public  33.364270 -117.087110           ELEC           P   \n",
       "93883      public  33.040529 -116.872571           ELEC           E   \n",
       "93884      public  33.040545 -116.872535           ELEC           E   \n",
       "93892      public  33.012795 -117.091313           ELEC           E   \n",
       "93893      public  33.012765 -117.091255           ELEC           E   \n",
       "\n",
       "        open_date                  ev_connector_types  ev_dc_fast_num  \\\n",
       "136    1997-07-30                           ['J1772']             NaN   \n",
       "3091   2011-03-15                           ['J1772']             NaN   \n",
       "3094   2011-03-15                           ['J1772']             NaN   \n",
       "3118   2011-03-15                           ['J1772']             NaN   \n",
       "3119   2011-03-15  ['CHADEMO', 'J1772', 'J1772COMBO']             3.0   \n",
       "...           ...                                 ...             ...   \n",
       "93765  2025-01-01  ['CHADEMO', 'J1772', 'J1772COMBO']             6.0   \n",
       "93883  2024-11-23                           ['J1772']             NaN   \n",
       "93884  2024-11-23                           ['J1772']             NaN   \n",
       "93892  2024-11-23                           ['J1772']             NaN   \n",
       "93893  2024-11-23                           ['J1772']             NaN   \n",
       "\n",
       "       ev_level1_evse_num ev_level2_evse_num           ev_network  \\\n",
       "136                   NaN                1.0        Non-Networked   \n",
       "3091                  NaN                1.0        Non-Networked   \n",
       "3094                  NaN                1.0        Non-Networked   \n",
       "3118                  NaN                1.0        Non-Networked   \n",
       "3119                  NaN                2.0        Non-Networked   \n",
       "...                   ...                ...                  ...   \n",
       "93765                 NaN                6.0        Non-Networked   \n",
       "93883                 NaN                2.0  ChargePoint Network   \n",
       "93884                 NaN                2.0  ChargePoint Network   \n",
       "93892                 NaN                2.0  ChargePoint Network   \n",
       "93893                 NaN                2.0  ChargePoint Network   \n",
       "\n",
       "                    ev_network_web ev_other_evse ev_workplace_charging  \\\n",
       "136                            NaN           NaN                 False   \n",
       "3091                           NaN           NaN                 False   \n",
       "3094                           NaN           NaN                 False   \n",
       "3118                           NaN           NaN                 False   \n",
       "3119                           NaN           NaN                 False   \n",
       "...                            ...           ...                   ...   \n",
       "93765                          NaN           NaN                 False   \n",
       "93883  http://www.chargepoint.com/           NaN                 False   \n",
       "93884  http://www.chargepoint.com/           NaN                 False   \n",
       "93892  http://www.chargepoint.com/           NaN                 False   \n",
       "93893  http://www.chargepoint.com/           NaN                 False   \n",
       "\n",
       "              ev_pricing  \n",
       "136    Free; parking fee  \n",
       "3091                Free  \n",
       "3094                Free  \n",
       "3118                Free  \n",
       "3119                Free  \n",
       "...                  ...  \n",
       "93765      $0.65 per kWh  \n",
       "93883                NaN  \n",
       "93884                NaN  \n",
       "93892                NaN  \n",
       "93893                NaN  \n",
       "\n",
       "[1282 rows x 20 columns]"
      ]
     },
     "execution_count": 43,
     "metadata": {},
     "output_type": "execute_result"
    }
   ],
   "source": [
    "charging_station_data = alternative_fuels_data[(alternative_fuels_data['zip'].isin(sdge_service_zip)) & (alternative_fuels_data['fuel_type_code'] == 'ELEC')]\n",
    "charging_station_data"
   ]
  },
  {
   "cell_type": "code",
   "execution_count": 44,
   "metadata": {},
   "outputs": [
    {
     "name": "stderr",
     "output_type": "stream",
     "text": [
      "/var/folders/54/hwsm49bs033bpdy18h8fnp2h0000gn/T/ipykernel_4178/1726552490.py:2: SettingWithCopyWarning: \n",
      "A value is trying to be set on a copy of a slice from a DataFrame.\n",
      "Try using .loc[row_indexer,col_indexer] = value instead\n",
      "\n",
      "See the caveats in the documentation: https://pandas.pydata.org/pandas-docs/stable/user_guide/indexing.html#returning-a-view-versus-a-copy\n",
      "  SDGE_dmv['Zip_Code'] = SDGE_dmv['Zip_Code'].astype(str)\n",
      "/var/folders/54/hwsm49bs033bpdy18h8fnp2h0000gn/T/ipykernel_4178/1726552490.py:3: SettingWithCopyWarning: \n",
      "A value is trying to be set on a copy of a slice from a DataFrame.\n",
      "Try using .loc[row_indexer,col_indexer] = value instead\n",
      "\n",
      "See the caveats in the documentation: https://pandas.pydata.org/pandas-docs/stable/user_guide/indexing.html#returning-a-view-versus-a-copy\n",
      "  charging_station_data['zip'] = charging_station_data['zip'].astype(str)\n"
     ]
    },
    {
     "data": {
      "application/vnd.plotly.v1+json": {
       "config": {
        "plotlyServerURL": "https://plot.ly"
       },
       "data": [
        {
         "hovertemplate": "<b>ZIP Code:</b> %{text}<br><b>EV Owners:</b> %{x}<br><b>Charging Stations:</b> %{y}<br><extra></extra>",
         "marker": {
          "opacity": 0.7,
          "size": 10
         },
         "mode": "markers",
         "name": "Data points",
         "text": [
          "92130",
          "92127",
          "92677",
          "92024",
          "92694",
          "92037",
          "92009",
          "92656",
          "92679",
          "92131",
          "92651",
          "92101",
          "92692",
          "92126",
          "92064",
          "92078",
          "92128",
          "92673",
          "91913",
          "92688",
          "92691",
          "92122",
          "92675",
          "92672",
          "92649",
          "92653",
          "92067",
          "92103",
          "92014",
          "92011",
          "92625",
          "92117",
          "92629",
          "92104",
          "92109",
          "92028",
          "92057",
          "91915",
          "92026",
          "92056",
          "92008",
          "92069",
          "91910",
          "92120",
          "92071",
          "92111",
          "92123",
          "91941",
          "92029",
          "92108",
          "92075",
          "92115",
          "92154",
          "92010",
          "92019",
          "92106",
          "92118",
          "92025",
          "92027",
          "91914",
          "92084",
          "92020",
          "92110",
          "92081",
          "92054",
          "91977",
          "91911",
          "92065",
          "92021",
          "91942",
          "92105",
          "92119",
          "92121",
          "92082",
          "92040",
          "92102",
          "92083",
          "92139",
          "91950",
          "91901",
          "92624",
          "91935",
          "91945",
          "92113",
          "92093",
          "91932",
          "92173",
          "92061",
          "92036",
          "92059",
          "92070",
          "92055",
          "92182",
          "92136",
          "91931",
          "92135",
          "92145",
          "92155"
         ],
         "type": "scatter",
         "x": [
          18727,
          13901,
          11928,
          9944,
          9757,
          9681,
          8997,
          8299,
          7991,
          7945,
          7884,
          7430,
          7232,
          7034,
          6956,
          6946,
          6625,
          6519,
          5601,
          5595,
          5272,
          5203,
          5131,
          5031,
          5006,
          4918,
          4737,
          4676,
          4495,
          4471,
          4449,
          4372,
          4337,
          4225,
          4139,
          3761,
          3681,
          3638,
          3584,
          3531,
          3515,
          3297,
          3218,
          3194,
          3093,
          3055,
          3048,
          2993,
          2904,
          2867,
          2839,
          2835,
          2784,
          2728,
          2715,
          2630,
          2606,
          2527,
          2525,
          2433,
          2410,
          2294,
          2171,
          2167,
          2106,
          2069,
          2046,
          2023,
          1902,
          1887,
          1792,
          1764,
          1558,
          1539,
          1370,
          1346,
          1298,
          1027,
          992,
          971,
          892,
          880,
          864,
          689,
          662,
          655,
          466,
          178,
          136,
          71,
          39,
          18,
          15,
          14,
          11,
          9,
          6,
          2
         ],
         "y": [
          41,
          15,
          2,
          14,
          12,
          71,
          19,
          16,
          1,
          3,
          10,
          86,
          5,
          19,
          6,
          16,
          6,
          6,
          1,
          3,
          4,
          25,
          5,
          11,
          1,
          9,
          2,
          14,
          7,
          6,
          3,
          1,
          2,
          1,
          10,
          3,
          3,
          9,
          7,
          14,
          12,
          10,
          10,
          4,
          11,
          14,
          29,
          1,
          6,
          29,
          12,
          8,
          4,
          8,
          6,
          9,
          6,
          16,
          4,
          4,
          3,
          27,
          13,
          9,
          45,
          1,
          23,
          5,
          15,
          9,
          1,
          1,
          80,
          6,
          12,
          3,
          4,
          1,
          21,
          2,
          1,
          1,
          4,
          3,
          18,
          2,
          2,
          1,
          1,
          1,
          3,
          1,
          13,
          14,
          1,
          1,
          7,
          8
         ]
        },
        {
         "line": {
          "color": "red",
          "width": 2
         },
         "mode": "lines",
         "name": "Regression line",
         "type": "scatter",
         "x": [
          18727,
          13901,
          11928,
          9944,
          9757,
          9681,
          8997,
          8299,
          7991,
          7945,
          7884,
          7430,
          7232,
          7034,
          6956,
          6946,
          6625,
          6519,
          5601,
          5595,
          5272,
          5203,
          5131,
          5031,
          5006,
          4918,
          4737,
          4676,
          4495,
          4471,
          4449,
          4372,
          4337,
          4225,
          4139,
          3761,
          3681,
          3638,
          3584,
          3531,
          3515,
          3297,
          3218,
          3194,
          3093,
          3055,
          3048,
          2993,
          2904,
          2867,
          2839,
          2835,
          2784,
          2728,
          2715,
          2630,
          2606,
          2527,
          2525,
          2433,
          2410,
          2294,
          2171,
          2167,
          2106,
          2069,
          2046,
          2023,
          1902,
          1887,
          1792,
          1764,
          1558,
          1539,
          1370,
          1346,
          1298,
          1027,
          992,
          971,
          892,
          880,
          864,
          689,
          662,
          655,
          466,
          178,
          136,
          71,
          39,
          18,
          15,
          14,
          11,
          9,
          6,
          2
         ],
         "y": [
          29.45416749972543,
          23.455424676301156,
          21.002975527810463,
          18.536853322739233,
          18.30441136087012,
          18.209942969950053,
          17.35972745166945,
          16.49210986137725,
          16.109264277122243,
          16.052086040512727,
          15.976262726747937,
          15.411938391514902,
          15.165823373065255,
          14.919708354615604,
          14.822753953408167,
          14.810323901971316,
          14.4113192508484,
          14.27956070561778,
          13.138481983714863,
          13.131023952852754,
          12.729533291442467,
          12.643765936528194,
          12.554269566182867,
          12.429969051814359,
          12.398893923222232,
          12.289509470577944,
          12.06452553957094,
          11.98870222580615,
          11.763718294799148,
          11.733886171350704,
          11.706540058189633,
          11.610828662125881,
          11.567323482096903,
          11.428106906004171,
          11.321208463647253,
          10.851352519334288,
          10.75191210783948,
          10.69846288666102,
          10.631340608902025,
          10.565461336286715,
          10.545573253987754,
          10.274598132664403,
          10.17640072631328,
          10.146568602864837,
          10.021025083352644,
          9.97379088789261,
          9.965089851886814,
          9.896724568984133,
          9.78609711119616,
          9.740105920879811,
          9.70530177685663,
          9.700329756281889,
          9.636936493953948,
          9.567328205907582,
          9.551169139039677,
          9.445513701826444,
          9.415681578378003,
          9.31748417202688,
          9.31499816173951,
          9.20064168852048,
          9.172052570215723,
          9.027863973548252,
          8.874974340874985,
          8.870002320300244,
          8.794179006535455,
          8.748187816219104,
          8.719598697914348,
          8.691009579609592,
          8.540605957223693,
          8.521960880068418,
          8.403875391418334,
          8.369071247395151,
          8.113012187796022,
          8.089395090066004,
          7.879327220783224,
          7.849495097334781,
          7.789830850437896,
          7.452976456499235,
          7.409471276470257,
          7.38336816845287,
          7.285170762101748,
          7.270254700377526,
          7.250366618078565,
          7.032840717933674,
          6.999279579054176,
          6.99057854304838,
          6.755650570891897,
          6.397665089510589,
          6.345458873475815,
          6.264663539136285,
          6.224887374538361,
          6.198784266520974,
          6.195055251089919,
          6.1938122459462335,
          6.190083230515178,
          6.187597220227809,
          6.183868204796753,
          6.178896184222013
         ]
        }
       ],
       "layout": {
        "height": 700,
        "template": {
         "data": {
          "bar": [
           {
            "error_x": {
             "color": "#2a3f5f"
            },
            "error_y": {
             "color": "#2a3f5f"
            },
            "marker": {
             "line": {
              "color": "#E5ECF6",
              "width": 0.5
             },
             "pattern": {
              "fillmode": "overlay",
              "size": 10,
              "solidity": 0.2
             }
            },
            "type": "bar"
           }
          ],
          "barpolar": [
           {
            "marker": {
             "line": {
              "color": "#E5ECF6",
              "width": 0.5
             },
             "pattern": {
              "fillmode": "overlay",
              "size": 10,
              "solidity": 0.2
             }
            },
            "type": "barpolar"
           }
          ],
          "carpet": [
           {
            "aaxis": {
             "endlinecolor": "#2a3f5f",
             "gridcolor": "white",
             "linecolor": "white",
             "minorgridcolor": "white",
             "startlinecolor": "#2a3f5f"
            },
            "baxis": {
             "endlinecolor": "#2a3f5f",
             "gridcolor": "white",
             "linecolor": "white",
             "minorgridcolor": "white",
             "startlinecolor": "#2a3f5f"
            },
            "type": "carpet"
           }
          ],
          "choropleth": [
           {
            "colorbar": {
             "outlinewidth": 0,
             "ticks": ""
            },
            "type": "choropleth"
           }
          ],
          "contour": [
           {
            "colorbar": {
             "outlinewidth": 0,
             "ticks": ""
            },
            "colorscale": [
             [
              0,
              "#0d0887"
             ],
             [
              0.1111111111111111,
              "#46039f"
             ],
             [
              0.2222222222222222,
              "#7201a8"
             ],
             [
              0.3333333333333333,
              "#9c179e"
             ],
             [
              0.4444444444444444,
              "#bd3786"
             ],
             [
              0.5555555555555556,
              "#d8576b"
             ],
             [
              0.6666666666666666,
              "#ed7953"
             ],
             [
              0.7777777777777778,
              "#fb9f3a"
             ],
             [
              0.8888888888888888,
              "#fdca26"
             ],
             [
              1,
              "#f0f921"
             ]
            ],
            "type": "contour"
           }
          ],
          "contourcarpet": [
           {
            "colorbar": {
             "outlinewidth": 0,
             "ticks": ""
            },
            "type": "contourcarpet"
           }
          ],
          "heatmap": [
           {
            "colorbar": {
             "outlinewidth": 0,
             "ticks": ""
            },
            "colorscale": [
             [
              0,
              "#0d0887"
             ],
             [
              0.1111111111111111,
              "#46039f"
             ],
             [
              0.2222222222222222,
              "#7201a8"
             ],
             [
              0.3333333333333333,
              "#9c179e"
             ],
             [
              0.4444444444444444,
              "#bd3786"
             ],
             [
              0.5555555555555556,
              "#d8576b"
             ],
             [
              0.6666666666666666,
              "#ed7953"
             ],
             [
              0.7777777777777778,
              "#fb9f3a"
             ],
             [
              0.8888888888888888,
              "#fdca26"
             ],
             [
              1,
              "#f0f921"
             ]
            ],
            "type": "heatmap"
           }
          ],
          "heatmapgl": [
           {
            "colorbar": {
             "outlinewidth": 0,
             "ticks": ""
            },
            "colorscale": [
             [
              0,
              "#0d0887"
             ],
             [
              0.1111111111111111,
              "#46039f"
             ],
             [
              0.2222222222222222,
              "#7201a8"
             ],
             [
              0.3333333333333333,
              "#9c179e"
             ],
             [
              0.4444444444444444,
              "#bd3786"
             ],
             [
              0.5555555555555556,
              "#d8576b"
             ],
             [
              0.6666666666666666,
              "#ed7953"
             ],
             [
              0.7777777777777778,
              "#fb9f3a"
             ],
             [
              0.8888888888888888,
              "#fdca26"
             ],
             [
              1,
              "#f0f921"
             ]
            ],
            "type": "heatmapgl"
           }
          ],
          "histogram": [
           {
            "marker": {
             "pattern": {
              "fillmode": "overlay",
              "size": 10,
              "solidity": 0.2
             }
            },
            "type": "histogram"
           }
          ],
          "histogram2d": [
           {
            "colorbar": {
             "outlinewidth": 0,
             "ticks": ""
            },
            "colorscale": [
             [
              0,
              "#0d0887"
             ],
             [
              0.1111111111111111,
              "#46039f"
             ],
             [
              0.2222222222222222,
              "#7201a8"
             ],
             [
              0.3333333333333333,
              "#9c179e"
             ],
             [
              0.4444444444444444,
              "#bd3786"
             ],
             [
              0.5555555555555556,
              "#d8576b"
             ],
             [
              0.6666666666666666,
              "#ed7953"
             ],
             [
              0.7777777777777778,
              "#fb9f3a"
             ],
             [
              0.8888888888888888,
              "#fdca26"
             ],
             [
              1,
              "#f0f921"
             ]
            ],
            "type": "histogram2d"
           }
          ],
          "histogram2dcontour": [
           {
            "colorbar": {
             "outlinewidth": 0,
             "ticks": ""
            },
            "colorscale": [
             [
              0,
              "#0d0887"
             ],
             [
              0.1111111111111111,
              "#46039f"
             ],
             [
              0.2222222222222222,
              "#7201a8"
             ],
             [
              0.3333333333333333,
              "#9c179e"
             ],
             [
              0.4444444444444444,
              "#bd3786"
             ],
             [
              0.5555555555555556,
              "#d8576b"
             ],
             [
              0.6666666666666666,
              "#ed7953"
             ],
             [
              0.7777777777777778,
              "#fb9f3a"
             ],
             [
              0.8888888888888888,
              "#fdca26"
             ],
             [
              1,
              "#f0f921"
             ]
            ],
            "type": "histogram2dcontour"
           }
          ],
          "mesh3d": [
           {
            "colorbar": {
             "outlinewidth": 0,
             "ticks": ""
            },
            "type": "mesh3d"
           }
          ],
          "parcoords": [
           {
            "line": {
             "colorbar": {
              "outlinewidth": 0,
              "ticks": ""
             }
            },
            "type": "parcoords"
           }
          ],
          "pie": [
           {
            "automargin": true,
            "type": "pie"
           }
          ],
          "scatter": [
           {
            "fillpattern": {
             "fillmode": "overlay",
             "size": 10,
             "solidity": 0.2
            },
            "type": "scatter"
           }
          ],
          "scatter3d": [
           {
            "line": {
             "colorbar": {
              "outlinewidth": 0,
              "ticks": ""
             }
            },
            "marker": {
             "colorbar": {
              "outlinewidth": 0,
              "ticks": ""
             }
            },
            "type": "scatter3d"
           }
          ],
          "scattercarpet": [
           {
            "marker": {
             "colorbar": {
              "outlinewidth": 0,
              "ticks": ""
             }
            },
            "type": "scattercarpet"
           }
          ],
          "scattergeo": [
           {
            "marker": {
             "colorbar": {
              "outlinewidth": 0,
              "ticks": ""
             }
            },
            "type": "scattergeo"
           }
          ],
          "scattergl": [
           {
            "marker": {
             "colorbar": {
              "outlinewidth": 0,
              "ticks": ""
             }
            },
            "type": "scattergl"
           }
          ],
          "scattermapbox": [
           {
            "marker": {
             "colorbar": {
              "outlinewidth": 0,
              "ticks": ""
             }
            },
            "type": "scattermapbox"
           }
          ],
          "scatterpolar": [
           {
            "marker": {
             "colorbar": {
              "outlinewidth": 0,
              "ticks": ""
             }
            },
            "type": "scatterpolar"
           }
          ],
          "scatterpolargl": [
           {
            "marker": {
             "colorbar": {
              "outlinewidth": 0,
              "ticks": ""
             }
            },
            "type": "scatterpolargl"
           }
          ],
          "scatterternary": [
           {
            "marker": {
             "colorbar": {
              "outlinewidth": 0,
              "ticks": ""
             }
            },
            "type": "scatterternary"
           }
          ],
          "surface": [
           {
            "colorbar": {
             "outlinewidth": 0,
             "ticks": ""
            },
            "colorscale": [
             [
              0,
              "#0d0887"
             ],
             [
              0.1111111111111111,
              "#46039f"
             ],
             [
              0.2222222222222222,
              "#7201a8"
             ],
             [
              0.3333333333333333,
              "#9c179e"
             ],
             [
              0.4444444444444444,
              "#bd3786"
             ],
             [
              0.5555555555555556,
              "#d8576b"
             ],
             [
              0.6666666666666666,
              "#ed7953"
             ],
             [
              0.7777777777777778,
              "#fb9f3a"
             ],
             [
              0.8888888888888888,
              "#fdca26"
             ],
             [
              1,
              "#f0f921"
             ]
            ],
            "type": "surface"
           }
          ],
          "table": [
           {
            "cells": {
             "fill": {
              "color": "#EBF0F8"
             },
             "line": {
              "color": "white"
             }
            },
            "header": {
             "fill": {
              "color": "#C8D4E3"
             },
             "line": {
              "color": "white"
             }
            },
            "type": "table"
           }
          ]
         },
         "layout": {
          "annotationdefaults": {
           "arrowcolor": "#2a3f5f",
           "arrowhead": 0,
           "arrowwidth": 1
          },
          "autotypenumbers": "strict",
          "coloraxis": {
           "colorbar": {
            "outlinewidth": 0,
            "ticks": ""
           }
          },
          "colorscale": {
           "diverging": [
            [
             0,
             "#8e0152"
            ],
            [
             0.1,
             "#c51b7d"
            ],
            [
             0.2,
             "#de77ae"
            ],
            [
             0.3,
             "#f1b6da"
            ],
            [
             0.4,
             "#fde0ef"
            ],
            [
             0.5,
             "#f7f7f7"
            ],
            [
             0.6,
             "#e6f5d0"
            ],
            [
             0.7,
             "#b8e186"
            ],
            [
             0.8,
             "#7fbc41"
            ],
            [
             0.9,
             "#4d9221"
            ],
            [
             1,
             "#276419"
            ]
           ],
           "sequential": [
            [
             0,
             "#0d0887"
            ],
            [
             0.1111111111111111,
             "#46039f"
            ],
            [
             0.2222222222222222,
             "#7201a8"
            ],
            [
             0.3333333333333333,
             "#9c179e"
            ],
            [
             0.4444444444444444,
             "#bd3786"
            ],
            [
             0.5555555555555556,
             "#d8576b"
            ],
            [
             0.6666666666666666,
             "#ed7953"
            ],
            [
             0.7777777777777778,
             "#fb9f3a"
            ],
            [
             0.8888888888888888,
             "#fdca26"
            ],
            [
             1,
             "#f0f921"
            ]
           ],
           "sequentialminus": [
            [
             0,
             "#0d0887"
            ],
            [
             0.1111111111111111,
             "#46039f"
            ],
            [
             0.2222222222222222,
             "#7201a8"
            ],
            [
             0.3333333333333333,
             "#9c179e"
            ],
            [
             0.4444444444444444,
             "#bd3786"
            ],
            [
             0.5555555555555556,
             "#d8576b"
            ],
            [
             0.6666666666666666,
             "#ed7953"
            ],
            [
             0.7777777777777778,
             "#fb9f3a"
            ],
            [
             0.8888888888888888,
             "#fdca26"
            ],
            [
             1,
             "#f0f921"
            ]
           ]
          },
          "colorway": [
           "#636efa",
           "#EF553B",
           "#00cc96",
           "#ab63fa",
           "#FFA15A",
           "#19d3f3",
           "#FF6692",
           "#B6E880",
           "#FF97FF",
           "#FECB52"
          ],
          "font": {
           "color": "#2a3f5f"
          },
          "geo": {
           "bgcolor": "white",
           "lakecolor": "white",
           "landcolor": "#E5ECF6",
           "showlakes": true,
           "showland": true,
           "subunitcolor": "white"
          },
          "hoverlabel": {
           "align": "left"
          },
          "hovermode": "closest",
          "mapbox": {
           "style": "light"
          },
          "paper_bgcolor": "white",
          "plot_bgcolor": "#E5ECF6",
          "polar": {
           "angularaxis": {
            "gridcolor": "white",
            "linecolor": "white",
            "ticks": ""
           },
           "bgcolor": "#E5ECF6",
           "radialaxis": {
            "gridcolor": "white",
            "linecolor": "white",
            "ticks": ""
           }
          },
          "scene": {
           "xaxis": {
            "backgroundcolor": "#E5ECF6",
            "gridcolor": "white",
            "gridwidth": 2,
            "linecolor": "white",
            "showbackground": true,
            "ticks": "",
            "zerolinecolor": "white"
           },
           "yaxis": {
            "backgroundcolor": "#E5ECF6",
            "gridcolor": "white",
            "gridwidth": 2,
            "linecolor": "white",
            "showbackground": true,
            "ticks": "",
            "zerolinecolor": "white"
           },
           "zaxis": {
            "backgroundcolor": "#E5ECF6",
            "gridcolor": "white",
            "gridwidth": 2,
            "linecolor": "white",
            "showbackground": true,
            "ticks": "",
            "zerolinecolor": "white"
           }
          },
          "shapedefaults": {
           "line": {
            "color": "#2a3f5f"
           }
          },
          "ternary": {
           "aaxis": {
            "gridcolor": "white",
            "linecolor": "white",
            "ticks": ""
           },
           "baxis": {
            "gridcolor": "white",
            "linecolor": "white",
            "ticks": ""
           },
           "bgcolor": "#E5ECF6",
           "caxis": {
            "gridcolor": "white",
            "linecolor": "white",
            "ticks": ""
           }
          },
          "title": {
           "x": 0.05
          },
          "xaxis": {
           "automargin": true,
           "gridcolor": "white",
           "linecolor": "white",
           "ticks": "",
           "title": {
            "standoff": 15
           },
           "zerolinecolor": "white",
           "zerolinewidth": 2
          },
          "yaxis": {
           "automargin": true,
           "gridcolor": "white",
           "linecolor": "white",
           "ticks": "",
           "title": {
            "standoff": 15
           },
           "zerolinecolor": "white",
           "zerolinewidth": 2
          }
         }
        },
        "title": {
         "text": "Correlation between EV Owners and Charging Stations"
        },
        "width": 1000,
        "xaxis": {
         "title": {
          "text": "Number of EV Owners"
         }
        },
        "yaxis": {
         "title": {
          "text": "Number of EV Charging Stations"
         }
        }
       }
      }
     },
     "metadata": {},
     "output_type": "display_data"
    }
   ],
   "source": [
    "# Ensure ZIP codes are strings for consistent merging\n",
    "SDGE_dmv['Zip_Code'] = SDGE_dmv['Zip_Code'].astype(str)\n",
    "charging_station_data['zip'] = charging_station_data['zip'].astype(str)\n",
    "\n",
    "# Filter and count EV charging stations by ZIP code for electric fuel type\n",
    "charging_stations_by_zip = charging_station_data[charging_station_data['fuel_type_code'] == 'ELEC'].groupby('zip').size().reset_index(name='charger_count')\n",
    "\n",
    "# Merge EV owners and charging station counts by ZIP code\n",
    "ev_zip_data = pd.merge(vehicles_by_zip, charging_stations_by_zip, on='zip', how='inner')\n",
    "\n",
    "# Prepare regression model\n",
    "X = ev_zip_data['ev_owners']\n",
    "y = ev_zip_data['charger_count']\n",
    "X_const = sm.add_constant(X)\n",
    "model = sm.OLS(y, X_const).fit()\n",
    "predictions = model.predict(X_const)\n",
    "\n",
    "### Plotly: Interactive Scatter Plot with ZIP Codes in Hover Info ###\n",
    "fig = go.Figure()\n",
    "\n",
    "# Add scatter plot with ZIP codes in hover text\n",
    "fig.add_trace(go.Scatter(\n",
    "    x=ev_zip_data['ev_owners'], \n",
    "    y=ev_zip_data['charger_count'], \n",
    "    mode='markers', \n",
    "    marker=dict(size=10, opacity=0.7), \n",
    "    name='Data points',\n",
    "    text=ev_zip_data['zip'],  # Add ZIP codes as hover text\n",
    "    hovertemplate=(\n",
    "        \"<b>ZIP Code:</b> %{text}<br>\" +  # Add ZIP code to the hover template\n",
    "        \"<b>EV Owners:</b> %{x}<br>\" +  # EV owners count\n",
    "        \"<b>Charging Stations:</b> %{y}<br><extra></extra>\"  # Charger count\n",
    "    )\n",
    "))\n",
    "\n",
    "# Add regression line\n",
    "fig.add_trace(go.Scatter(\n",
    "    x=ev_zip_data['ev_owners'], \n",
    "    y=predictions, \n",
    "    mode='lines', \n",
    "    line=dict(color='red', width=2), \n",
    "    name='Regression line'\n",
    "))\n",
    "\n",
    "# Customize layout\n",
    "fig.update_layout(\n",
    "    title='Correlation between EV Owners and Charging Stations',\n",
    "    xaxis_title='Number of EV Owners',\n",
    "    yaxis_title='Number of EV Charging Stations',\n",
    "    width=1000,\n",
    "    height=700\n",
    ")\n",
    "\n",
    "fig.show()\n"
   ]
  },
  {
   "cell_type": "markdown",
   "metadata": {},
   "source": [
    "## Fitting Poisson Distribution On EV Owner Data "
   ]
  },
  {
   "cell_type": "code",
   "execution_count": 45,
   "metadata": {},
   "outputs": [
    {
     "name": "stdout",
     "output_type": "stream",
     "text": [
      "     zip      lambda\n",
      "0  91901  161.833333\n",
      "1  91902  259.500000\n",
      "2  91905    4.000000\n",
      "3  91906   16.166667\n",
      "4  91910  536.333333\n"
     ]
    }
   ],
   "source": [
    "# Group data by ZIP code and year\n",
    "ev_count_by_zip_year = SDGE_dmv.groupby(['Zip_Code', 'Year'])['Vehicles'].sum().reset_index()\n",
    "\n",
    "# Pivot to create a table for Poisson fitting\n",
    "pivot_table = ev_count_by_zip_year.pivot(index='Year', columns='Zip_Code', values='Vehicles').fillna(0)\n",
    "\n",
    "# Prepare to store results\n",
    "poisson_results = []\n",
    "\n",
    "# Fit Poisson distribution for each ZIP code\n",
    "for zip_code in pivot_table.columns:\n",
    "    ev_counts = pivot_table[zip_code]\n",
    "    \n",
    "    # Only fit if there are data points\n",
    "    if ev_counts.sum() > 0:\n",
    "        # Fit Poisson using Maximum Likelihood Estimation (MLE)\n",
    "        model = sm.GLM(ev_counts, np.ones_like(ev_counts), family=sm.families.Poisson())\n",
    "        result = model.fit()\n",
    "        \n",
    "        # Get the lambda (mean of Poisson)\n",
    "        lambda_estimate = result.mu.mean()\n",
    "        poisson_results.append({'zip': zip_code, 'lambda': lambda_estimate})\n",
    "\n",
    "# Convert results to DataFrame\n",
    "poisson_results_df = pd.DataFrame(poisson_results)\n",
    "\n",
    "# Save the results to a CSV file\n",
    "poisson_results_df.to_csv('poisson_results_sdge.csv', index=False)\n",
    "\n",
    "# Print the first few rows of the results\n",
    "print(poisson_results_df.head())"
   ]
  },
  {
   "cell_type": "markdown",
   "metadata": {},
   "source": [
    "## Monte Carlo Simulation"
   ]
  },
  {
   "cell_type": "code",
   "execution_count": 46,
   "metadata": {},
   "outputs": [],
   "source": [
    "# Monte Carlo simulation\n",
    "n_samples = 1000\n",
    "samples_results = {}\n",
    "\n",
    "# Extract lambda values for each ZIP code\n",
    "poisson_params = poisson_results_df.set_index('zip')['lambda'].to_dict()\n",
    "\n",
    "# Perform sampling\n",
    "for n in range(n_samples):\n",
    "    results = []\n",
    "    for zip_code in poisson_params.keys():\n",
    "        # Sample from Poisson distribution\n",
    "        value = poisson.rvs(mu=poisson_params[zip_code], size=1)\n",
    "        results.append(value[0])\n",
    "    samples_results[n] = results\n",
    "\n",
    "# Convert sampling results to DataFrame for analysis\n",
    "samples_df = pd.DataFrame.from_dict(samples_results, orient='index', columns=poisson_params.keys())\n",
    "\n",
    "# Save sampled results to a CSV\n",
    "samples_df.to_csv('poisson_samples.csv', index=False)\n"
   ]
  },
  {
   "cell_type": "code",
   "execution_count": 47,
   "metadata": {},
   "outputs": [
    {
     "data": {
      "text/plain": [
       "{'91901': 161.83333333334915,\n",
       " '91902': 259.5000000000186,\n",
       " '91905': 4.000000000120957,\n",
       " '91906': 16.166666666699893,\n",
       " '91910': 536.3333333334258,\n",
       " '91911': 341.0000000000004,\n",
       " '91912': 5.500000000000228,\n",
       " '91913': 933.5000000000015,\n",
       " '91914': 405.5000000000569,\n",
       " '91915': 606.3333333333335,\n",
       " '91916': 11.666666666669231,\n",
       " '91917': 6.166666666671808,\n",
       " '91931': 1.833333333520171,\n",
       " '91932': 109.16666666666795,\n",
       " '91934': 4.166666666666756,\n",
       " '91935': 146.6666666666745,\n",
       " '91941': 498.8333333333371,\n",
       " '91942': 314.5000000001141,\n",
       " '91945': 144.00000000063145,\n",
       " '91948': 0.33333333333333365,\n",
       " '91950': 165.33333333360767,\n",
       " '91962': 15.166666667446597,\n",
       " '91963': 2.1666666668845704,\n",
       " '91977': 344.8333333333334,\n",
       " '91978': 97.16666666666679,\n",
       " '91980': 2.0000000000000964,\n",
       " '92003': 108.00000000000522,\n",
       " '92004': 20.3333333333334,\n",
       " '92007': 296.66666666666765,\n",
       " '92008': 585.8333333333368,\n",
       " '92009': 1499.500000000017,\n",
       " '92010': 454.66666666670784,\n",
       " '92011': 745.1666666666791,\n",
       " '92014': 749.1666666666682,\n",
       " '92019': 452.5000000000005,\n",
       " '92020': 382.3333333337786,\n",
       " '92021': 317.00000000013785,\n",
       " '92024': 1657.3333333333378,\n",
       " '92025': 421.1666666667472,\n",
       " '92026': 597.333333333566,\n",
       " '92027': 420.8333333334826,\n",
       " '92028': 626.8333333336751,\n",
       " '92029': 484.00000000007327,\n",
       " '92036': 22.666666666740994,\n",
       " '92037': 1613.5000000000016,\n",
       " '92040': 228.33333333359028,\n",
       " '92049': 2.1666666666666763,\n",
       " '92054': 351.0000000000064,\n",
       " '92055': 3.0000000000000058,\n",
       " '92056': 588.500000000708,\n",
       " '92057': 613.5000000002766,\n",
       " '92058': 219.50000000017508,\n",
       " '92059': 11.833333333335704,\n",
       " '92060': 2.1666666667541965,\n",
       " '92061': 29.666666666666732,\n",
       " '92064': 1159.333333333361,\n",
       " '92065': 337.1666666666744,\n",
       " '92066': 1.0000000000000009,\n",
       " '92067': 789.4999999999999,\n",
       " '92068': 1.6666666667901253,\n",
       " '92069': 549.5000000003455,\n",
       " '92070': 6.500000000000006,\n",
       " '92071': 515.5000000004776,\n",
       " '92072': 1.1666666666666663,\n",
       " '92075': 473.166666666667,\n",
       " '92078': 1157.6666666667536,\n",
       " '92079': 2.000000000001276,\n",
       " '92081': 361.16666666680675,\n",
       " '92082': 256.5000000001612,\n",
       " '92083': 216.33333333338808,\n",
       " '92084': 401.6666666667457,\n",
       " '92085': 3.8333333333333326,\n",
       " '92086': 6.833333333334292,\n",
       " '92091': 127.50000000000018,\n",
       " '92092': 12.833333333333337,\n",
       " '92093': 110.33333333333339,\n",
       " '92096': 5.000000000092609,\n",
       " '92101': 1238.3333333333342,\n",
       " '92102': 224.33333333333408,\n",
       " '92103': 779.3333333333377,\n",
       " '92104': 704.1666666666678,\n",
       " '92105': 298.666666666667,\n",
       " '92106': 438.33333333333445,\n",
       " '92107': 406.666666666667,\n",
       " '92108': 477.8333333334571,\n",
       " '92109': 689.8333333333331,\n",
       " '92110': 361.8333333333364,\n",
       " '92111': 509.16666666676343,\n",
       " '92112': 6.333333333333336,\n",
       " '92113': 114.83333333333586,\n",
       " '92114': 304.66666666666646,\n",
       " '92115': 472.5000000000219,\n",
       " '92116': 480.50000000000426,\n",
       " '92117': 728.6666666666869,\n",
       " '92118': 434.3333333333344,\n",
       " '92119': 294.0000000000229,\n",
       " '92120': 532.3333333333682,\n",
       " '92121': 259.666666666667,\n",
       " '92122': 867.1666666666769,\n",
       " '92123': 508.0000000000104,\n",
       " '92124': 458.33333333336674,\n",
       " '92126': 1172.3333333333364,\n",
       " '92127': 2316.8333333333653,\n",
       " '92128': 1104.1666666667427,\n",
       " '92129': 1461.6666666668314,\n",
       " '92130': 3121.1666666666865,\n",
       " '92131': 1324.1666666667104,\n",
       " '92134': 0.5000000000000022,\n",
       " '92135': 1.4999999999999998,\n",
       " '92136': 2.3333333333333344,\n",
       " '92139': 171.16666666695752,\n",
       " '92145': 1.0000000000000002,\n",
       " '92154': 464.0000000000004,\n",
       " '92155': 0.33333333333333365,\n",
       " '92173': 77.66666666700566,\n",
       " '92182': 2.500000000000037,\n",
       " '92199': 0.1666666666697536,\n",
       " '92536': 16.166666666742117,\n",
       " '92624': 148.66666666666694,\n",
       " '92625': 741.5000000000017,\n",
       " '92629': 722.8333333333368,\n",
       " '92649': 834.3333333333363,\n",
       " '92651': 1313.9999999999984,\n",
       " '92653': 819.6666666666785,\n",
       " '92654': 3.833333333336768,\n",
       " '92656': 1383.1666666667259,\n",
       " '92672': 838.5000000000009,\n",
       " '92673': 1086.5000000000075,\n",
       " '92674': 6.166666666666665,\n",
       " '92675': 855.1666666666687,\n",
       " '92676': 53.33333333333335,\n",
       " '92677': 1988.0000000000343,\n",
       " '92679': 1331.8333333333537,\n",
       " '92688': 932.5000000001279,\n",
       " '92690': 7.166666666666667,\n",
       " '92691': 878.666666666736,\n",
       " '92692': 1205.3333333334313,\n",
       " '92693': 1.3333333333334432,\n",
       " '92694': 1626.1666666667045}"
      ]
     },
     "execution_count": 47,
     "metadata": {},
     "output_type": "execute_result"
    }
   ],
   "source": [
    "poisson_params"
   ]
  },
  {
   "cell_type": "code",
   "execution_count": 48,
   "metadata": {},
   "outputs": [
    {
     "data": {
      "text/html": [
       "<div>\n",
       "<style scoped>\n",
       "    .dataframe tbody tr th:only-of-type {\n",
       "        vertical-align: middle;\n",
       "    }\n",
       "\n",
       "    .dataframe tbody tr th {\n",
       "        vertical-align: top;\n",
       "    }\n",
       "\n",
       "    .dataframe thead th {\n",
       "        text-align: right;\n",
       "    }\n",
       "</style>\n",
       "<table border=\"1\" class=\"dataframe\">\n",
       "  <thead>\n",
       "    <tr style=\"text-align: right;\">\n",
       "      <th></th>\n",
       "      <th>0</th>\n",
       "      <th>1</th>\n",
       "      <th>2</th>\n",
       "      <th>3</th>\n",
       "      <th>4</th>\n",
       "      <th>5</th>\n",
       "      <th>6</th>\n",
       "      <th>7</th>\n",
       "      <th>8</th>\n",
       "      <th>9</th>\n",
       "      <th>...</th>\n",
       "      <th>990</th>\n",
       "      <th>991</th>\n",
       "      <th>992</th>\n",
       "      <th>993</th>\n",
       "      <th>994</th>\n",
       "      <th>995</th>\n",
       "      <th>996</th>\n",
       "      <th>997</th>\n",
       "      <th>998</th>\n",
       "      <th>999</th>\n",
       "    </tr>\n",
       "  </thead>\n",
       "  <tbody>\n",
       "    <tr>\n",
       "      <th>91901</th>\n",
       "      <td>171</td>\n",
       "      <td>173</td>\n",
       "      <td>155</td>\n",
       "      <td>158</td>\n",
       "      <td>152</td>\n",
       "      <td>165</td>\n",
       "      <td>135</td>\n",
       "      <td>173</td>\n",
       "      <td>153</td>\n",
       "      <td>176</td>\n",
       "      <td>...</td>\n",
       "      <td>142</td>\n",
       "      <td>170</td>\n",
       "      <td>170</td>\n",
       "      <td>158</td>\n",
       "      <td>163</td>\n",
       "      <td>172</td>\n",
       "      <td>144</td>\n",
       "      <td>183</td>\n",
       "      <td>142</td>\n",
       "      <td>177</td>\n",
       "    </tr>\n",
       "    <tr>\n",
       "      <th>91902</th>\n",
       "      <td>298</td>\n",
       "      <td>280</td>\n",
       "      <td>241</td>\n",
       "      <td>234</td>\n",
       "      <td>255</td>\n",
       "      <td>301</td>\n",
       "      <td>261</td>\n",
       "      <td>281</td>\n",
       "      <td>262</td>\n",
       "      <td>271</td>\n",
       "      <td>...</td>\n",
       "      <td>256</td>\n",
       "      <td>242</td>\n",
       "      <td>245</td>\n",
       "      <td>240</td>\n",
       "      <td>275</td>\n",
       "      <td>263</td>\n",
       "      <td>255</td>\n",
       "      <td>283</td>\n",
       "      <td>264</td>\n",
       "      <td>234</td>\n",
       "    </tr>\n",
       "    <tr>\n",
       "      <th>91905</th>\n",
       "      <td>7</td>\n",
       "      <td>3</td>\n",
       "      <td>1</td>\n",
       "      <td>5</td>\n",
       "      <td>2</td>\n",
       "      <td>2</td>\n",
       "      <td>5</td>\n",
       "      <td>7</td>\n",
       "      <td>1</td>\n",
       "      <td>3</td>\n",
       "      <td>...</td>\n",
       "      <td>4</td>\n",
       "      <td>2</td>\n",
       "      <td>3</td>\n",
       "      <td>6</td>\n",
       "      <td>1</td>\n",
       "      <td>2</td>\n",
       "      <td>6</td>\n",
       "      <td>6</td>\n",
       "      <td>3</td>\n",
       "      <td>6</td>\n",
       "    </tr>\n",
       "    <tr>\n",
       "      <th>91906</th>\n",
       "      <td>15</td>\n",
       "      <td>13</td>\n",
       "      <td>18</td>\n",
       "      <td>15</td>\n",
       "      <td>22</td>\n",
       "      <td>15</td>\n",
       "      <td>18</td>\n",
       "      <td>12</td>\n",
       "      <td>16</td>\n",
       "      <td>13</td>\n",
       "      <td>...</td>\n",
       "      <td>14</td>\n",
       "      <td>16</td>\n",
       "      <td>18</td>\n",
       "      <td>20</td>\n",
       "      <td>18</td>\n",
       "      <td>20</td>\n",
       "      <td>16</td>\n",
       "      <td>13</td>\n",
       "      <td>17</td>\n",
       "      <td>26</td>\n",
       "    </tr>\n",
       "    <tr>\n",
       "      <th>91910</th>\n",
       "      <td>525</td>\n",
       "      <td>587</td>\n",
       "      <td>513</td>\n",
       "      <td>509</td>\n",
       "      <td>546</td>\n",
       "      <td>529</td>\n",
       "      <td>541</td>\n",
       "      <td>530</td>\n",
       "      <td>576</td>\n",
       "      <td>510</td>\n",
       "      <td>...</td>\n",
       "      <td>554</td>\n",
       "      <td>554</td>\n",
       "      <td>512</td>\n",
       "      <td>541</td>\n",
       "      <td>528</td>\n",
       "      <td>497</td>\n",
       "      <td>596</td>\n",
       "      <td>530</td>\n",
       "      <td>499</td>\n",
       "      <td>610</td>\n",
       "    </tr>\n",
       "    <tr>\n",
       "      <th>...</th>\n",
       "      <td>...</td>\n",
       "      <td>...</td>\n",
       "      <td>...</td>\n",
       "      <td>...</td>\n",
       "      <td>...</td>\n",
       "      <td>...</td>\n",
       "      <td>...</td>\n",
       "      <td>...</td>\n",
       "      <td>...</td>\n",
       "      <td>...</td>\n",
       "      <td>...</td>\n",
       "      <td>...</td>\n",
       "      <td>...</td>\n",
       "      <td>...</td>\n",
       "      <td>...</td>\n",
       "      <td>...</td>\n",
       "      <td>...</td>\n",
       "      <td>...</td>\n",
       "      <td>...</td>\n",
       "      <td>...</td>\n",
       "      <td>...</td>\n",
       "    </tr>\n",
       "    <tr>\n",
       "      <th>92690</th>\n",
       "      <td>15</td>\n",
       "      <td>10</td>\n",
       "      <td>9</td>\n",
       "      <td>9</td>\n",
       "      <td>11</td>\n",
       "      <td>10</td>\n",
       "      <td>8</td>\n",
       "      <td>8</td>\n",
       "      <td>8</td>\n",
       "      <td>6</td>\n",
       "      <td>...</td>\n",
       "      <td>13</td>\n",
       "      <td>8</td>\n",
       "      <td>5</td>\n",
       "      <td>6</td>\n",
       "      <td>11</td>\n",
       "      <td>7</td>\n",
       "      <td>5</td>\n",
       "      <td>6</td>\n",
       "      <td>2</td>\n",
       "      <td>12</td>\n",
       "    </tr>\n",
       "    <tr>\n",
       "      <th>92691</th>\n",
       "      <td>833</td>\n",
       "      <td>858</td>\n",
       "      <td>862</td>\n",
       "      <td>860</td>\n",
       "      <td>860</td>\n",
       "      <td>884</td>\n",
       "      <td>851</td>\n",
       "      <td>857</td>\n",
       "      <td>947</td>\n",
       "      <td>859</td>\n",
       "      <td>...</td>\n",
       "      <td>931</td>\n",
       "      <td>859</td>\n",
       "      <td>882</td>\n",
       "      <td>882</td>\n",
       "      <td>907</td>\n",
       "      <td>872</td>\n",
       "      <td>891</td>\n",
       "      <td>877</td>\n",
       "      <td>862</td>\n",
       "      <td>882</td>\n",
       "    </tr>\n",
       "    <tr>\n",
       "      <th>92692</th>\n",
       "      <td>1172</td>\n",
       "      <td>1124</td>\n",
       "      <td>1196</td>\n",
       "      <td>1190</td>\n",
       "      <td>1251</td>\n",
       "      <td>1278</td>\n",
       "      <td>1177</td>\n",
       "      <td>1198</td>\n",
       "      <td>1172</td>\n",
       "      <td>1198</td>\n",
       "      <td>...</td>\n",
       "      <td>1249</td>\n",
       "      <td>1239</td>\n",
       "      <td>1186</td>\n",
       "      <td>1183</td>\n",
       "      <td>1132</td>\n",
       "      <td>1165</td>\n",
       "      <td>1227</td>\n",
       "      <td>1237</td>\n",
       "      <td>1188</td>\n",
       "      <td>1255</td>\n",
       "    </tr>\n",
       "    <tr>\n",
       "      <th>92693</th>\n",
       "      <td>2</td>\n",
       "      <td>0</td>\n",
       "      <td>1</td>\n",
       "      <td>2</td>\n",
       "      <td>0</td>\n",
       "      <td>1</td>\n",
       "      <td>2</td>\n",
       "      <td>4</td>\n",
       "      <td>2</td>\n",
       "      <td>0</td>\n",
       "      <td>...</td>\n",
       "      <td>0</td>\n",
       "      <td>0</td>\n",
       "      <td>1</td>\n",
       "      <td>2</td>\n",
       "      <td>3</td>\n",
       "      <td>2</td>\n",
       "      <td>1</td>\n",
       "      <td>0</td>\n",
       "      <td>2</td>\n",
       "      <td>1</td>\n",
       "    </tr>\n",
       "    <tr>\n",
       "      <th>92694</th>\n",
       "      <td>1648</td>\n",
       "      <td>1673</td>\n",
       "      <td>1594</td>\n",
       "      <td>1625</td>\n",
       "      <td>1642</td>\n",
       "      <td>1637</td>\n",
       "      <td>1617</td>\n",
       "      <td>1592</td>\n",
       "      <td>1670</td>\n",
       "      <td>1556</td>\n",
       "      <td>...</td>\n",
       "      <td>1604</td>\n",
       "      <td>1540</td>\n",
       "      <td>1687</td>\n",
       "      <td>1649</td>\n",
       "      <td>1697</td>\n",
       "      <td>1620</td>\n",
       "      <td>1612</td>\n",
       "      <td>1552</td>\n",
       "      <td>1629</td>\n",
       "      <td>1639</td>\n",
       "    </tr>\n",
       "  </tbody>\n",
       "</table>\n",
       "<p>139 rows × 1000 columns</p>\n",
       "</div>"
      ],
      "text/plain": [
       "        0     1     2     3     4     5     6     7     8     9    ...   990  \\\n",
       "91901   171   173   155   158   152   165   135   173   153   176  ...   142   \n",
       "91902   298   280   241   234   255   301   261   281   262   271  ...   256   \n",
       "91905     7     3     1     5     2     2     5     7     1     3  ...     4   \n",
       "91906    15    13    18    15    22    15    18    12    16    13  ...    14   \n",
       "91910   525   587   513   509   546   529   541   530   576   510  ...   554   \n",
       "...     ...   ...   ...   ...   ...   ...   ...   ...   ...   ...  ...   ...   \n",
       "92690    15    10     9     9    11    10     8     8     8     6  ...    13   \n",
       "92691   833   858   862   860   860   884   851   857   947   859  ...   931   \n",
       "92692  1172  1124  1196  1190  1251  1278  1177  1198  1172  1198  ...  1249   \n",
       "92693     2     0     1     2     0     1     2     4     2     0  ...     0   \n",
       "92694  1648  1673  1594  1625  1642  1637  1617  1592  1670  1556  ...  1604   \n",
       "\n",
       "        991   992   993   994   995   996   997   998   999  \n",
       "91901   170   170   158   163   172   144   183   142   177  \n",
       "91902   242   245   240   275   263   255   283   264   234  \n",
       "91905     2     3     6     1     2     6     6     3     6  \n",
       "91906    16    18    20    18    20    16    13    17    26  \n",
       "91910   554   512   541   528   497   596   530   499   610  \n",
       "...     ...   ...   ...   ...   ...   ...   ...   ...   ...  \n",
       "92690     8     5     6    11     7     5     6     2    12  \n",
       "92691   859   882   882   907   872   891   877   862   882  \n",
       "92692  1239  1186  1183  1132  1165  1227  1237  1188  1255  \n",
       "92693     0     1     2     3     2     1     0     2     1  \n",
       "92694  1540  1687  1649  1697  1620  1612  1552  1629  1639  \n",
       "\n",
       "[139 rows x 1000 columns]"
      ]
     },
     "execution_count": 48,
     "metadata": {},
     "output_type": "execute_result"
    }
   ],
   "source": [
    "samples_df.T"
   ]
  },
  {
   "cell_type": "code",
   "execution_count": 49,
   "metadata": {},
   "outputs": [
    {
     "data": {
      "text/plain": [
       "91901     161685\n",
       "91902     260157\n",
       "91905       4116\n",
       "91906      16260\n",
       "91910     536937\n",
       "          ...   \n",
       "92690       7114\n",
       "92691     878625\n",
       "92692    1205435\n",
       "92693       1398\n",
       "92694    1626228\n",
       "Length: 139, dtype: int64"
      ]
     },
     "execution_count": 49,
     "metadata": {},
     "output_type": "execute_result"
    }
   ],
   "source": [
    "samples_df.sum()"
   ]
  },
  {
   "cell_type": "code",
   "execution_count": 50,
   "metadata": {},
   "outputs": [
    {
     "data": {
      "text/plain": [
       "0      64717\n",
       "1      64920\n",
       "2      64356\n",
       "3      64588\n",
       "4      64815\n",
       "       ...  \n",
       "995    64676\n",
       "996    64788\n",
       "997    64896\n",
       "998    64988\n",
       "999    64961\n",
       "Length: 1000, dtype: int64"
      ]
     },
     "execution_count": 50,
     "metadata": {},
     "output_type": "execute_result"
    }
   ],
   "source": [
    "samples_df.T.sum()"
   ]
  },
  {
   "cell_type": "code",
   "execution_count": 51,
   "metadata": {},
   "outputs": [
    {
     "data": {
      "text/plain": [
       "91901    12.980380\n",
       "91902    16.051168\n",
       "91905     2.091631\n",
       "91906     4.033444\n",
       "91910    24.614486\n",
       "           ...    \n",
       "92690     2.640450\n",
       "92691    30.158613\n",
       "92692    34.915912\n",
       "92693     1.174298\n",
       "92694    40.555181\n",
       "Length: 139, dtype: float64"
      ]
     },
     "execution_count": 51,
     "metadata": {},
     "output_type": "execute_result"
    }
   ],
   "source": [
    "samples_df.std()"
   ]
  },
  {
   "cell_type": "markdown",
   "metadata": {},
   "source": [
    "## Visualization For Monte Carlo Simulation of Zip Code 92122"
   ]
  },
  {
   "cell_type": "code",
   "execution_count": 52,
   "metadata": {},
   "outputs": [
    {
     "data": {
      "image/png": "[encoded data removed]",
      "text/plain": [
       "<Figure size 1000x600 with 1 Axes>"
      ]
     },
     "metadata": {},
     "output_type": "display_data"
    }
   ],
   "source": [
    "import matplotlib.pyplot as plt\n",
    "\n",
    "# Choose a ZIP code to plot the histogram\n",
    "zip_code_to_plot = '92122'  # Replace with desired ZIP code if known\n",
    "\n",
    "# Extract samples for the chosen ZIP code\n",
    "zip_samples = samples_df[zip_code_to_plot]\n",
    "\n",
    "# Create the histogram\n",
    "plt.figure(figsize=(10, 6))\n",
    "plt.hist(zip_samples, bins=30, alpha=0.7, color='blue', edgecolor='black')\n",
    "\n",
    "# Add labels and title\n",
    "plt.title(f'Histogram of Poisson Samples for ZIP Code {zip_code_to_plot}', fontsize=16)\n",
    "plt.xlabel('Number of Registered EVs', fontsize=14)\n",
    "plt.ylabel('Frequency', fontsize=14)\n",
    "\n",
    "# Show the plot\n",
    "plt.tight_layout()\n",
    "plt.show()"
   ]
  }
 ],
 "metadata": {
  "kernelspec": {
   "display_name": "dsc180a",
   "language": "python",
   "name": "python3"
  },
  "language_info": {
   "codemirror_mode": {
    "name": "ipython",
    "version": 3
   },
   "file_extension": ".py",
   "mimetype": "text/x-python",
   "name": "python",
   "nbconvert_exporter": "python",
   "pygments_lexer": "ipython3",
   "version": "3.10.15"
  }
 },
 "nbformat": 4,
 "nbformat_minor": 2
}
