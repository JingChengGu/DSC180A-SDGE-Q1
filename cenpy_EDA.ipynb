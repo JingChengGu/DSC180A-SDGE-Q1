{
 "cells": [
  {
   "cell_type": "code",
   "execution_count": null,
   "metadata": {},
   "outputs": [],
   "source": [
    "import pandas as pd\n",
    "%matplotlib inline\n",
    "from cenpy import products\n",
    "import geopandas as gpd\n",
    "import folium\n",
    "from folium import Choropleth, GeoJsonTooltip"
   ]
  },
  {
   "cell_type": "markdown",
   "metadata": {},
   "source": [
    "## Using Cenpy to Access Census Data of Median Income and Population"
   ]
  },
  {
   "cell_type": "code",
   "execution_count": null,
   "metadata": {},
   "outputs": [],
   "source": [
    "# Connect to the ACS dataset\n",
    "connection = products.APIConnection('ACSDT5Y2022')  # Replace with desired ACS year\n",
    "\n",
    "# Define the variable codes for median income and population\n",
    "income_variable = 'B19013_001E'  # Median Household Income\n",
    "population_variable = 'B01003_001E'  # Total Population\n",
    "\n",
    "# Retrieve median income data for San Diego's ZIP codes\n",
    "income_data = connection.query(\n",
    "    cols=[income_variable],\n",
    "    geo_unit='zip code tabulation area'\n",
    ")\n",
    "\n",
    "# Rename column for clarity\n",
    "income_data = income_data.rename(columns={\n",
    "    'zip code tabulation area': 'zip',\n",
    "    income_variable: 'median_income'\n",
    "})\n",
    "\n",
    "# Retrieve population data for San Diego's ZIP codes\n",
    "population_data = connection.query(\n",
    "    cols=[population_variable],\n",
    "    geo_unit='zip code tabulation area'\n",
    ")\n",
    "\n",
    "# Rename column for clarity\n",
    "population_data = population_data.rename(columns={\n",
    "    'zip code tabulation area': 'zip',\n",
    "    population_variable: 'population'\n",
    "})\n",
    "\n",
    "# Filter both tables to focus on SDG&E ZIP codes\n",
    "sdge_zip_csv = pd.read_csv('data/SDGE_zip.csv')\n",
    "sdge_service_zip = sdge_zip_csv['ZipCode'].astype(str)  # Ensure ZIP codes are strings\n",
    "\n",
    "income_data = income_data[income_data['zip'].isin(sdge_service_zip)]\n",
    "population_data = population_data[population_data['zip'].isin(sdge_service_zip)]\n",
    "\n",
    "# Display the separate tables\n",
    "print(\"Median Income Data:\")\n",
    "print(income_data.sort_values('median_income').head())\n",
    "\n",
    "print(\"\\nPopulation Data:\")\n",
    "print(population_data.head())\n"
   ]
  },
  {
   "cell_type": "code",
   "execution_count": null,
   "metadata": {},
   "outputs": [],
   "source": [
    "income_data['median_income'] = (\n",
    "    income_data['median_income']\n",
    "    .astype(str)                      # Ensure all values are strings for cleaning\n",
    "    .str.strip()                      # Remove leading/trailing spaces\n",
    "    .str.replace(r'[^\\d]', '', regex=True)  # Remove non-numeric characters\n",
    "    .astype(int)                      # Convert to integers\n",
    ")\n",
    "income_data.sort_values('median_income', ascending = False)"
   ]
  },
  {
   "cell_type": "markdown",
   "metadata": {},
   "source": [
    "## Accessing AFDC Data To Perform Geospatial Analysis With Cenpy"
   ]
  },
  {
   "cell_type": "code",
   "execution_count": null,
   "metadata": {},
   "outputs": [],
   "source": [
    "alternative_fuels_data = pd.read_csv(\"datasets/alternative_fuels_data.csv\")\n",
    "enhanced_columns = [\n",
    "    'station_name', 'city', 'state', 'zip', 'country', 'access_code',\n",
    "    'latitude', 'longitude', 'fuel_type_code', 'status_code', 'open_date',\n",
    "    'ev_connector_types', 'ev_dc_fast_num', 'ev_level1_evse_num',\n",
    "    'ev_level2_evse_num', 'ev_network', 'ev_network_web', 'ev_other_evse',\n",
    "    'ev_workplace_charging', 'ev_pricing'\n",
    "]\n",
    "alternative_fuels_data = alternative_fuels_data[enhanced_columns]\n",
    "sdge_service_data = pd.read_csv(\"data/SDGE_zip.csv\")\n",
    "sdge_service_zip = sdge_service_data['ZipCode']\n",
    "charging_station_data = alternative_fuels_data[(alternative_fuels_data['zip'].isin(sdge_service_zip)) & (alternative_fuels_data['fuel_type_code'] == 'ELEC')]\n",
    "charging_station_data"
   ]
  },
  {
   "cell_type": "code",
   "execution_count": null,
   "metadata": {},
   "outputs": [],
   "source": [
    "charger_counts = charging_station_data.groupby(\"zip\").size().reset_index(name = \"charger_count\")\n",
    "charger_counts['zip'] = charger_counts['zip'].astype(int).astype(str)\n",
    "charger_counts"
   ]
  },
  {
   "cell_type": "code",
   "execution_count": null,
   "metadata": {},
   "outputs": [],
   "source": [
    "income_data['zip'] = income_data['zip'].astype(str)\n",
    "\n",
    "# Merge with income data based on ZIP code\n",
    "merged_income_data = pd.merge(income_data, charger_counts, on='zip', how='left')\n",
    "merged_income_data['median_income'] = pd.to_numeric(merged_income_data['median_income'], errors='coerce').fillna(0)\n",
    "merged_income_data['charger_count'] = pd.to_numeric(merged_income_data['charger_count'], errors='coerce').fillna(0)\n",
    "merged_income_data = merged_income_data[merged_income_data['median_income'] >= 0]\n",
    "merged_income_data = merged_income_data[merged_income_data['median_income'] <= 1000000]\n",
    "\n",
    "merged_population_data = pd.merge(population_data, charger_counts, on='zip', how='left')\n",
    "merged_population_data['population'] = pd.to_numeric(merged_population_data['population'], errors='coerce').fillna(0)\n",
    "merged_population_data['charger_count'] = pd.to_numeric(merged_population_data['charger_count'], errors='coerce').fillna(0)\n",
    "merged_population_data = merged_population_data[merged_population_data['population'] >= 0]\n",
    "merged_population_data = merged_population_data[merged_population_data['population'] <= 1000000]\n",
    "\n",
    "print(merged_income_data)\n",
    "print(merged_population_data)"
   ]
  },
  {
   "cell_type": "markdown",
   "metadata": {},
   "source": [
    "## Access Shapefile from ZCTA in Census.gov for Zipcode Division"
   ]
  },
  {
   "cell_type": "code",
   "execution_count": null,
   "metadata": {},
   "outputs": [],
   "source": [
    "# Load the ZCTA shapefile\n",
    "zip_shapefile = gpd.read_file('datasets/tl_2024_us_zcta520/tl_2024_us_zcta520.shp')\n",
    "zip_shapefile['ZCTA5CE20'] = zip_shapefile['ZCTA5CE20'].astype(str)\n"
   ]
  },
  {
   "cell_type": "markdown",
   "metadata": {},
   "source": [
    "## Displaying the density of EV chargers in SDG&E Territories"
   ]
  },
  {
   "cell_type": "code",
   "execution_count": null,
   "metadata": {},
   "outputs": [],
   "source": [
    "# Merge charger data with ZIP code shapefile for San Diego area\n",
    "san_diego_chargers = zip_shapefile.merge(charger_counts, left_on='ZCTA5CE20', right_on='zip', how='inner')\n",
    "san_diego_chargers['charger_count'] = san_diego_chargers['charger_count'].fillna(0)  # Fill NaN values with 0\n",
    "\n",
    "# Initialize the map centered around San Diego\n",
    "m = folium.Map(location=[32.8, -117.2], zoom_start=10)\n",
    "\n",
    "# Add a choropleth layer for EV Charger Density by ZIP code\n",
    "Choropleth(\n",
    "    geo_data=san_diego_chargers.to_json(),  # Convert GeoDataFrame to JSON for Folium\n",
    "    data=san_diego_chargers,\n",
    "    columns=['ZCTA5CE20', 'charger_count'], # Use ZIP code and charger count\n",
    "    key_on='feature.properties.ZCTA5CE20',  # Match ZIP code in the shapefile\n",
    "    fill_color='Greens',                    # Color scale for chargers\n",
    "    fill_opacity=0.6,\n",
    "    line_opacity=0.2,\n",
    "    legend_name='EV Charger Density by ZIP Code'\n",
    ").add_to(m)\n",
    "\n",
    "# Add tooltips for interactive display\n",
    "tooltip = GeoJsonTooltip(\n",
    "    fields=['ZCTA5CE20', 'charger_count'],\n",
    "    aliases=['ZIP Code:', 'EV Charger Count:'],\n",
    "    localize=True\n",
    ")\n",
    "folium.GeoJson(\n",
    "    san_diego_chargers.to_json(),\n",
    "    tooltip=tooltip\n",
    ").add_to(m)\n",
    "\n",
    "m.save('assets/cenpy_assets/ev_charger_density_by_zip.html') # Save html to assets\n",
    "\n",
    "# Display the map\n",
    "m"
   ]
  },
  {
   "cell_type": "markdown",
   "metadata": {},
   "source": [
    "## Merging the Population Data with EV Station Density"
   ]
  },
  {
   "cell_type": "code",
   "execution_count": null,
   "metadata": {},
   "outputs": [],
   "source": [
    "# Convert ZIP codes in population data to string for merging\n",
    "merged_population_data['zip'] = merged_population_data['zip'].astype(str)\n",
    "\n",
    "# Merge population data with the shapefile\n",
    "map_zip_population = zip_shapefile.merge(merged_population_data, left_on='ZCTA5CE20', right_on='zip', how='inner')\n",
    "\n",
    "# Fill NaN values in population column (if necessary) and sort\n",
    "map_zip_population['population'] = map_zip_population['population'].fillna(0)\n",
    "map_zip_population = map_zip_population.sort_values(by='population', ascending=False)\n",
    "\n",
    "map_zip_population"
   ]
  },
  {
   "cell_type": "markdown",
   "metadata": {},
   "source": [
    "## Displaying Population Density Data and Laying With EV Station Density"
   ]
  },
  {
   "cell_type": "code",
   "execution_count": null,
   "metadata": {},
   "outputs": [],
   "source": [
    "# Initialize the map centered around San Diego\n",
    "m = folium.Map(location=[32.8, -117.2], zoom_start=10)\n",
    "\n",
    "# Add a choropleth layer for population data\n",
    "Choropleth(\n",
    "    geo_data=map_zip_population.to_json(),  # Convert GeoDataFrame to JSON for Folium\n",
    "    data=map_zip_population,\n",
    "    columns=['ZCTA5CE20', 'population'],    # Use ZIP code and population\n",
    "    key_on='feature.properties.ZCTA5CE20',  # Match ZIP code in the shapefile\n",
    "    fill_color='Reds',                    # Color scale for population\n",
    "    fill_opacity=0.6,\n",
    "    line_opacity=0.2,\n",
    "    legend_name='Population Density by ZIP Code'\n",
    ").add_to(m)\n",
    "\n",
    "# Add a second choropleth layer for charger density\n",
    "Choropleth(\n",
    "    geo_data=map_zip_population.to_json(),  # Convert GeoDataFrame to JSON for Folium\n",
    "    data=map_zip_population,\n",
    "    columns=['ZCTA5CE20', 'charger_count'],  # Use ZIP code and charger count\n",
    "    key_on='feature.properties.ZCTA5CE20',   # Match ZIP code in the shapefile\n",
    "    fill_color='Greens',                     # Color scale for chargers\n",
    "    fill_opacity=0.4,\n",
    "    line_opacity=0.2,\n",
    "    legend_name='EV Charger Density by ZIP Code'\n",
    ").add_to(m)\n",
    "\n",
    "# Add tooltips to display ZIP code, population, and charger count\n",
    "tooltip = GeoJsonTooltip(\n",
    "    fields=['ZCTA5CE20', 'population', 'charger_count'],\n",
    "    aliases=['ZIP Code:', 'Population:', 'EV Charger Count:'],\n",
    "    localize=True\n",
    ")\n",
    "folium.GeoJson(\n",
    "    map_zip_population.to_json(),\n",
    "    tooltip=tooltip\n",
    ").add_to(m)\n",
    "\n",
    "m.save('assets/cenpy_assets/population_vs_ev_charger_density_by_zip.html') # Save html to assets\n",
    "\n",
    "# Display the map\n",
    "m\n"
   ]
  },
  {
   "cell_type": "markdown",
   "metadata": {},
   "source": [
    "## Single Layer Correlation Graph Between Zip Code Population Size VS EV Charging Stations In SDGE Territories"
   ]
  },
  {
   "cell_type": "code",
   "execution_count": null,
   "metadata": {},
   "outputs": [],
   "source": [
    "# Normalize population and charger count\n",
    "map_zip_population['population_norm'] = map_zip_population['population'] / map_zip_population['population'].max()\n",
    "map_zip_population['charger_norm'] = map_zip_population['charger_count'] / map_zip_population['charger_count'].max()\n",
    "\n",
    "# Calculate a composite correlation score\n",
    "map_zip_population['correlation_score'] = map_zip_population['population_norm'] * map_zip_population['charger_norm']"
   ]
  },
  {
   "cell_type": "code",
   "execution_count": null,
   "metadata": {},
   "outputs": [],
   "source": [
    "# Initialize the map centered around San Diego\n",
    "m = folium.Map(location=[32.8, -117.2], zoom_start=10)\n",
    "\n",
    "# Add a choropleth layer for the correlation score\n",
    "Choropleth(\n",
    "    geo_data=map_zip_population.to_json(),  # Convert GeoDataFrame to JSON for Folium\n",
    "    data=map_zip_population,\n",
    "    columns=['ZCTA5CE20', 'correlation_score'],  # Use ZIP code and correlation score\n",
    "    key_on='feature.properties.ZCTA5CE20',  # Match ZIP code in the shapefile\n",
    "    fill_color='RdYlBu',  # Diverging color scale\n",
    "    fill_opacity=0.7,\n",
    "    line_opacity=0.2,\n",
    "    legend_name='Correlation: Population vs. Charger Density'\n",
    ").add_to(m)\n",
    "\n",
    "# Add tooltips to display ZIP code, population, and charger count\n",
    "tooltip = GeoJsonTooltip(\n",
    "    fields=['ZCTA5CE20', 'population', 'charger_count'],\n",
    "    aliases=['ZIP Code:', 'Population:', 'EV Charger Count:'],\n",
    "    localize=True,\n",
    ")\n",
    "folium.GeoJson(\n",
    "    map_zip_population.to_json(),\n",
    "    tooltip=tooltip\n",
    ").add_to(m)\n",
    "\n",
    "m.save('assets/cenpy_assets/correlation_population_vs_ev_charger_density_by_zip.html') # Save html to assets\n",
    "\n",
    "# Display the map\n",
    "m\n"
   ]
  },
  {
   "cell_type": "markdown",
   "metadata": {},
   "source": [
    "## Merging Median Income Data with EV Station Density Data"
   ]
  },
  {
   "cell_type": "code",
   "execution_count": null,
   "metadata": {},
   "outputs": [],
   "source": [
    "# Convert ZIP codes in population data to string for merging\n",
    "merged_income_data['zip'] = merged_income_data['zip'].astype(str)\n",
    "\n",
    "# Merge population data with the shapefile\n",
    "map_zip_income = zip_shapefile.merge(merged_income_data, left_on='ZCTA5CE20', right_on='zip', how='inner')\n",
    "\n",
    "# Fill NaN values in population column (if necessary) and sort\n",
    "map_zip_income['population'] = map_zip_income['median_income'].fillna(0)\n",
    "map_zip_income = map_zip_income.sort_values(by='median_income', ascending=False)\n",
    "\n",
    "map_zip_income"
   ]
  },
  {
   "cell_type": "markdown",
   "metadata": {},
   "source": [
    "## Displaying Median Income Distribution While Laying EV Station Density"
   ]
  },
  {
   "cell_type": "code",
   "execution_count": null,
   "metadata": {},
   "outputs": [],
   "source": [
    "# Initialize the map centered around San Diego\n",
    "m = folium.Map(location=[32.8, -117.2], zoom_start=10)\n",
    "\n",
    "# Add a choropleth layer for median income\n",
    "Choropleth(\n",
    "    geo_data=map_zip_income.to_json(),  # Convert GeoDataFrame to JSON for Folium\n",
    "    data=map_zip_income,\n",
    "    columns=['ZCTA5CE20', 'median_income'],  # Use ZIP code and median income\n",
    "    key_on='feature.properties.ZCTA5CE20',   # Match ZIP code in the shapefile\n",
    "    fill_color='YlOrRd',                     # Warm color scale for income\n",
    "    fill_opacity=0.6,                        # Higher opacity for income\n",
    "    line_opacity=0.2,\n",
    "    legend_name='Median Household Income by ZIP Code'\n",
    ").add_to(m)\n",
    "\n",
    "# Add a second choropleth layer for charger density\n",
    "Choropleth(\n",
    "    geo_data=map_zip_income.to_json(),  # Convert GeoDataFrame to JSON for Folium\n",
    "    data=map_zip_income,\n",
    "    columns=['ZCTA5CE20', 'charger_count'], # Use ZIP code and charger count\n",
    "    key_on='feature.properties.ZCTA5CE20',  # Match ZIP code in the shapefile\n",
    "    fill_color='Greens',                    # Color scale for chargers\n",
    "    fill_opacity=0.4,\n",
    "    line_opacity=0.2,\n",
    "    legend_name='EV Charger Density by ZIP Code'\n",
    ").add_to(m)\n",
    "\n",
    "# Add tooltips to display ZIP code, income, and charger count\n",
    "tooltip = GeoJsonTooltip(\n",
    "    fields=['ZCTA5CE20', 'median_income', 'charger_count'],\n",
    "    aliases=['ZIP Code:', 'Median Income:', 'EV Charger Count:'],\n",
    "    localize=True\n",
    ")\n",
    "folium.GeoJson(\n",
    "    map_zip_income.to_json(),\n",
    "    tooltip=tooltip\n",
    ").add_to(m)\n",
    "\n",
    "m.save('assets/cenpy_assets/median_income_vs_ev_charger_density_by_zip.html') # Save html to assets\n",
    "\n",
    "# Display the map\n",
    "m\n"
   ]
  },
  {
   "cell_type": "markdown",
   "metadata": {},
   "source": [
    "## Single Layer Correlation Graph Between Median Household Income VS EV Charging Stations In SDGE Territories"
   ]
  },
  {
   "cell_type": "code",
   "execution_count": null,
   "metadata": {},
   "outputs": [],
   "source": [
    "# Normalize median income and charger count\n",
    "map_zip_income['income_norm'] = map_zip_income['median_income'] / map_zip_income['median_income'].max()\n",
    "map_zip_income['charger_norm'] = map_zip_income['charger_count'] / map_zip_income['charger_count'].max()\n",
    "\n",
    "# Calculate a composite correlation score\n",
    "map_zip_income['correlation_score'] = map_zip_income['income_norm'] * map_zip_income['charger_norm']\n"
   ]
  },
  {
   "cell_type": "code",
   "execution_count": null,
   "metadata": {},
   "outputs": [],
   "source": [
    "# Initialize the map centered around San Diego\n",
    "m = folium.Map(location=[32.8, -117.2], zoom_start=10)\n",
    "\n",
    "# Add a choropleth layer for the correlation score\n",
    "Choropleth(\n",
    "    geo_data=map_zip_income.to_json(),  # Convert GeoDataFrame to JSON for Folium\n",
    "    data=map_zip_income,\n",
    "    columns=['ZCTA5CE20', 'correlation_score'],  # Use ZIP code and correlation score\n",
    "    key_on='feature.properties.ZCTA5CE20',  # Match ZIP code in the shapefile\n",
    "    fill_color='RdYlBu',  # Diverging color scale\n",
    "    fill_opacity=0.7,\n",
    "    line_opacity=0.2,\n",
    "    legend_name='Correlation: Median Income vs. Charger Density'\n",
    ").add_to(m)\n",
    "\n",
    "# Add tooltips to display ZIP code, median income, and charger count\n",
    "tooltip = GeoJsonTooltip(\n",
    "    fields=['ZCTA5CE20', 'median_income', 'charger_count'],\n",
    "    aliases=['ZIP Code:', 'Median Income:', 'EV Charger Count:'],\n",
    "    localize=True,\n",
    ")\n",
    "folium.GeoJson(\n",
    "    map_zip_income.to_json(),\n",
    "    tooltip=tooltip\n",
    ").add_to(m)\n",
    "\n",
    "m.save('assets/cenpy_assets/correlation_median_income_vs_ev_charger_density_by_zip.html') # Save html to assets\n",
    "\n",
    "# Display the map\n",
    "m\n"
   ]
  }
 ],
 "metadata": {
  "kernelspec": {
   "display_name": "dsc180a",
   "language": "python",
   "name": "python3"
  },
  "language_info": {
   "codemirror_mode": {
    "name": "ipython",
    "version": 3
   },
   "file_extension": ".py",
   "mimetype": "text/x-python",
   "name": "python",
   "nbconvert_exporter": "python",
   "pygments_lexer": "ipython3",
   "version": "3.10.15"
  }
 },
 "nbformat": 4,
 "nbformat_minor": 2
}
