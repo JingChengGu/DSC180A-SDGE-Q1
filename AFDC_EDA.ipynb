{
 "cells": [
  {
   "cell_type": "code",
   "execution_count": null,
   "metadata": {},
   "outputs": [],
   "source": [
    "import pandas as pd\n",
    "import numpy as np\n",
    "import matplotlib.pyplot as plt\n",
    "%matplotlib inline\n",
    "import osmnx as ox\n",
    "import networkx as nx\n",
    "import plotly.express as px"
   ]
  },
  {
   "cell_type": "markdown",
   "metadata": {},
   "source": [
    "## Access AFDC Data"
   ]
  },
  {
   "cell_type": "code",
   "execution_count": null,
   "metadata": {},
   "outputs": [],
   "source": [
    "alternative_fuels_data = pd.read_csv('datasets/alternative_fuels_data.csv')\n",
    "alternative_fuels_data.head()"
   ]
  },
  {
   "cell_type": "code",
   "execution_count": null,
   "metadata": {},
   "outputs": [],
   "source": [
    "fuel_code_count = alternative_fuels_data['fuel_type_code'].value_counts(dropna=False).to_dict()\n",
    "fuel_code_count"
   ]
  },
  {
   "cell_type": "code",
   "execution_count": null,
   "metadata": {},
   "outputs": [],
   "source": [
    "np.array(alternative_fuels_data.columns)"
   ]
  },
  {
   "cell_type": "markdown",
   "metadata": {},
   "source": [
    "## Select Specific Columns From AFDC Data"
   ]
  },
  {
   "cell_type": "code",
   "execution_count": null,
   "metadata": {},
   "outputs": [],
   "source": [
    "enhanced_columns = [\n",
    "    'station_name', 'city', 'state', 'zip', 'country', 'access_code',\n",
    "    'latitude', 'longitude', 'fuel_type_code', 'status_code', 'open_date',\n",
    "    'ev_connector_types', 'ev_dc_fast_num', 'ev_level1_evse_num',\n",
    "    'ev_level2_evse_num', 'ev_network', 'ev_network_web', 'ev_other_evse',\n",
    "    'ev_workplace_charging', 'ev_pricing'\n",
    "]\n",
    "alternative_fuels_data = alternative_fuels_data[enhanced_columns]"
   ]
  },
  {
   "cell_type": "code",
   "execution_count": null,
   "metadata": {},
   "outputs": [],
   "source": [
    "alternative_fuels_data.head()"
   ]
  },
  {
   "cell_type": "markdown",
   "metadata": {},
   "source": [
    "## Specify AFDC Data From SDGE Territories and Electric Charging Stations Only"
   ]
  },
  {
   "cell_type": "code",
   "execution_count": null,
   "metadata": {},
   "outputs": [],
   "source": [
    "sdge_zip_csv = pd.read_csv('data/SDGE_zip.csv')\n",
    "sdge_service_zip = sdge_zip_csv['ZipCode']\n",
    "#sdge_service_zip = [str(zip) for zip in  sdge_service_zip]\n",
    "charging_station_data = alternative_fuels_data[(alternative_fuels_data['zip'].isin(sdge_service_zip)) & (alternative_fuels_data['fuel_type_code'] == 'ELEC')]\n",
    "# charging_station_data[charging_station_data['zip'] == 92122]\n",
    "#data[data['station_name'].str.contains('UCSD', case = False, na = False)]"
   ]
  },
  {
   "cell_type": "code",
   "execution_count": null,
   "metadata": {},
   "outputs": [],
   "source": [
    "# There are 163 private EV charging stations\n",
    "private_ev_stations = charging_station_data[charging_station_data['access_code'] == 'private']\n",
    "private_ev_stations_count = len(private_ev_stations)\n",
    "print(f'There are {private_ev_stations_count} private EV charging stations in SDGE territories.')"
   ]
  },
  {
   "cell_type": "markdown",
   "metadata": {},
   "source": [
    "## Creating a Distribution of EV Networks Bar Graph in SDGE Territories"
   ]
  },
  {
   "cell_type": "code",
   "execution_count": null,
   "metadata": {},
   "outputs": [],
   "source": [
    "# Finding the distribution of ev_networks\n",
    "ev_networks = charging_station_data.dropna(subset= 'ev_network')\n",
    "\n",
    "\n",
    "ev_networks = ev_networks.groupby('ev_network').size().reset_index(name = 'station_count')\n",
    "ev_networks.sort_values(by='station_count', ascending = False)\n",
    "\n",
    "plt.figure(figsize = (12, 6))\n",
    "plt.xticks(rotation = 90)\n",
    "plt.bar(ev_networks['ev_network'], ev_networks['station_count'])\n",
    "plt.xlabel('Network')\n",
    "plt.ylabel('station_count')\n",
    "plt.title('Distribution of EV Networks')\n"
   ]
  },
  {
   "cell_type": "code",
   "execution_count": null,
   "metadata": {},
   "outputs": [],
   "source": [
    "# time series EDA on how many public charging stations have opened throughout the past years\n",
    "\n",
    "charging_station_data['open_date'] = pd.to_datetime(charging_station_data['open_date'])\n",
    "public_ev_stations = charging_station_data[charging_station_data['access_code'] == 'public']\n",
    "\n",
    "public_ev_stations['year'] = public_ev_stations['open_date'].dt.year\n",
    "yearly_count = public_ev_stations.groupby('year').size().reset_index(name = 'num_stations')\n",
    "yearly_count['cumulative_stations'] = yearly_count['num_stations'].cumsum()\n",
    "\n",
    "plt.figure(figsize = (12, 6))\n",
    "plt.plot(yearly_count['year'], yearly_count['cumulative_stations'], marker = 'o') \n",
    "plt.title('Growth of Public EV Charging Stations in SDG&E Territories')\n",
    "plt.xlabel(\"year\")\n",
    "plt.ylabel('EV Station Count')\n",
    "plt.grid()\n",
    "plt.show()"
   ]
  },
  {
   "cell_type": "code",
   "execution_count": null,
   "metadata": {},
   "outputs": [],
   "source": [
    "# Create an interactive time series plot with Plotly\n",
    "fig = px.line(\n",
    "    yearly_count,\n",
    "    x='year',\n",
    "    y='cumulative_stations',\n",
    "    title='Growth of Public Access Electric Charging Stations Over Time',\n",
    "    labels={'year': 'Year', 'cumulative_stations': 'Number of Stations (Cumulative)'}\n",
    ")\n",
    "\n",
    "fig.add_annotation(\n",
    "    x=2020, y=600,\n",
    "    text=\"Sharp Increase between 2019-2020\",\n",
    "    showarrow=True,\n",
    "    arrowhead=2,\n",
    "    ax=0, ay=-40\n",
    ")\n",
    "\n",
    "fig.update_layout(width=1000, height=600)\n",
    "\n",
    "fig.show()"
   ]
  },
  {
   "cell_type": "code",
   "execution_count": null,
   "metadata": {},
   "outputs": [],
   "source": [
    "public_ev_stations[public_ev_stations['station_name'] == 'UCSD Hopkins']"
   ]
  },
  {
   "cell_type": "code",
   "execution_count": null,
   "metadata": {},
   "outputs": [],
   "source": [
    "# Step 1: Fill NA values with 0 for all relevant columns\n",
    "public_ev_stations['ev_level1_evse_num'] = public_ev_stations['ev_level1_evse_num'].fillna(0)\n",
    "public_ev_stations['ev_level2_evse_num'] = public_ev_stations['ev_level2_evse_num'].fillna(0)\n",
    "public_ev_stations['ev_dc_fast_num'] = public_ev_stations['ev_dc_fast_num'].fillna(0)\n",
    "\n",
    "# Step 2: Ensure data types are numeric\n",
    "public_ev_stations['ev_level1_evse_num'] = public_ev_stations['ev_level1_evse_num'].astype(float)\n",
    "public_ev_stations['ev_level2_evse_num'] = public_ev_stations['ev_level2_evse_num'].astype(float)\n",
    "public_ev_stations['ev_dc_fast_num'] = public_ev_stations['ev_dc_fast_num'].astype(float)\n",
    "\n",
    "# Step 3: Perform groupby and sum operation (without cumulative sum first)\n",
    "yearly_sum = public_ev_stations.groupby('year')[['ev_level1_evse_num', 'ev_level2_evse_num', 'ev_dc_fast_num']].sum().cumsum().reset_index()\n",
    "\n",
    "\n",
    "fig = px.line(\n",
    "    yearly_sum, \n",
    "    x='year', \n",
    "    y=['ev_level1_evse_num', 'ev_level2_evse_num', 'ev_dc_fast_num'],\n",
    "    title='Growth of EV Charging Stations by Type Over Time',\n",
    "    labels={'value': 'Cumulative Number of Chargers', 'year': 'Year'},\n",
    "    line_shape='linear'\n",
    ")\n",
    "\n",
    "fig.update_layout(\n",
    "    yaxis_title='Number of Charging Ports',\n",
    "    legend_title='Charging Type',\n",
    "    margin={\"r\":0, \"t\":40, \"l\":40, \"b\":40}\n",
    ")\n",
    "\n",
    "fig.show()"
   ]
  },
  {
   "cell_type": "code",
   "execution_count": null,
   "metadata": {},
   "outputs": [],
   "source": [
    "# Coordinates for SDG&E's main office and UCSD Hopkins station\n",
    "sdge_location = (32.824850, -117.142928)  # SDG&E main office coordinates\n",
    "ucsd_hopkins_station = (32.883572, -117.23895)  # UCSD Hopkins station coordinates\n",
    "\n",
    "# Download the graph for San Diego, specifically for driving routes\n",
    "G = ox.graph_from_place('San Diego, California, USA', network_type='drive')\n",
    "\n",
    "# Get the nearest nodes in the graph for SDG&E and UCSD Hopkins station\n",
    "sdge_node = ox.distance.nearest_nodes(G, sdge_location[1], sdge_location[0])\n",
    "ucsd_node = ox.distance.nearest_nodes(G, ucsd_hopkins_station[1], ucsd_hopkins_station[0])\n",
    "\n",
    "# Calculate the shortest path between the two nodes\n",
    "route_nodes = nx.shortest_path(G, sdge_node, ucsd_node, weight='length')\n",
    "\n",
    "# Plot the route on the map\n",
    "fig, ax = ox.plot_graph_route(G, route_nodes, route_color=\"r\", route_linewidth=2, node_size=0)\n",
    "\n",
    "# Convert the path to a GeoDataFrame to calculate the length\n",
    "gdf = ox.routing.route_to_gdf(G, route_nodes)\n",
    "pathlength_km = np.round((gdf[\"length\"].sum() / 1000), 2)\n",
    "pathlength_miles = np.round(pathlength_km / 1.609, 2)\n",
    "print(f\"Driving distance from SDG&E to UCSD Hopkins station: {pathlength_km:.2f} km / {pathlength_miles:.2f} miles.\")\n"
   ]
  }
 ],
 "metadata": {
  "kernelspec": {
   "display_name": "dsc180a",
   "language": "python",
   "name": "python3"
  },
  "language_info": {
   "codemirror_mode": {
    "name": "ipython",
    "version": 3
   },
   "file_extension": ".py",
   "mimetype": "text/x-python",
   "name": "python",
   "nbconvert_exporter": "python",
   "pygments_lexer": "ipython3",
   "version": "3.10.15"
  }
 },
 "nbformat": 4,
 "nbformat_minor": 2
}
